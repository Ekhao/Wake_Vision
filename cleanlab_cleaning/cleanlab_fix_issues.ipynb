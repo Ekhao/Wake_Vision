{
 "cells": [
  {
   "cell_type": "markdown",
   "metadata": {},
   "source": [
    "In this notebook we use the issues identified by running the cleanlab_find_issue notebook to clean the datasets. We will make use of the qsl library to manually check though label issues."
   ]
  },
  {
   "cell_type": "markdown",
   "metadata": {},
   "source": [
    "First we import the necessary libraries."
   ]
  },
  {
   "cell_type": "code",
   "execution_count": null,
   "metadata": {},
   "outputs": [],
   "source": [
    "# Only run this once to run the notebook from the parent directory that contains necessary modules.\n",
    "%cd .."
   ]
  },
  {
   "cell_type": "code",
   "execution_count": null,
   "metadata": {},
   "outputs": [],
   "source": [
    "import io\n",
    "import numpy as np\n",
    "import pandas as pd\n",
    "import qsl\n",
    "import PIL\n",
    "import datasets\n",
    "import cleanlab"
   ]
  },
  {
   "cell_type": "markdown",
   "metadata": {},
   "source": [
    "Now load the dataset"
   ]
  },
  {
   "cell_type": "code",
   "execution_count": null,
   "metadata": {},
   "outputs": [],
   "source": [
    "SPLIT = \"validation\""
   ]
  },
  {
   "cell_type": "code",
   "execution_count": null,
   "metadata": {},
   "outputs": [],
   "source": [
    "ds = datasets.load_from_disk(f\"tmp/wv_datalab_{SPLIT}/data\")"
   ]
  },
  {
   "cell_type": "markdown",
   "metadata": {},
   "source": [
    "And the previously computed cleanlab issues"
   ]
  },
  {
   "cell_type": "code",
   "execution_count": null,
   "metadata": {},
   "outputs": [],
   "source": [
    "lab = cleanlab.Datalab(ds)\n",
    "lab = lab.load(f'tmp/wv_datalab_{SPLIT}')"
   ]
  },
  {
   "cell_type": "code",
   "execution_count": null,
   "metadata": {},
   "outputs": [],
   "source": [
    "label_issues = lab.get_issues(\"label\")\n",
    "label_issues_df = label_issues.query(\"is_label_issue\")"
   ]
  },
  {
   "cell_type": "code",
   "execution_count": null,
   "metadata": {},
   "outputs": [],
   "source": [
    "extra_info_df = ds.to_pandas()"
   ]
  },
  {
   "cell_type": "code",
   "execution_count": null,
   "metadata": {},
   "outputs": [],
   "source": [
    "final_df= pd.merge(label_issues_df, extra_info_df, how=\"left\", left_index=True, right_index=True)"
   ]
  },
  {
   "cell_type": "code",
   "execution_count": null,
   "metadata": {},
   "outputs": [],
   "source": [
    "labels = [\"No Person\", \"Person\"]\n",
    "\n",
    "params = dict(\n",
    "    config={\n",
    "        \"image\": [\n",
    "            {\n",
    "                \"name\": \"clean_label\",\n",
    "                \"options\": [{\"name\": \"Person\"}, {\"name\": \"No Person\"}, {\"name\": \"Exclude\"}],\n",
    "                \"required\": True,\n",
    "            }\n",
    "        ]\n",
    "    },\n",
    "    items=[\n",
    "        {\n",
    "            \"target\": np.asarray(PIL.Image.open(io.BytesIO(row[\"image\"][\"bytes\"])))[:, :, [2, 1, 0]],\n",
    "            \"metadata\": {\"Original Label\": row[\"given_label\"], \"Suggested Label\": row[\"predicted_label\"], \"Label Score\": row[\"label_score\"], \"Filename\": row[\"filename\"]},\n",
    "        } for _, row in final_df.iterrows()\n",
    "    ],\n",
    "    maxCanvasSize=224,\n",
    ")\n",
    "\n",
    "labeller = qsl.MediaLabeler(**params)"
   ]
  },
  {
   "cell_type": "code",
   "execution_count": null,
   "metadata": {},
   "outputs": [],
   "source": [
    "display(labeller)"
   ]
  },
  {
   "cell_type": "markdown",
   "metadata": {},
   "source": [
    "After manually looking through the dataset we save the cleaned labels to disk."
   ]
  },
  {
   "cell_type": "code",
   "execution_count": null,
   "metadata": {},
   "outputs": [],
   "source": [
    "def str_label_to_int(label):\n",
    "    if label == [\"Person\"]:\n",
    "        return 1\n",
    "    elif label == [\"No Person\"]:\n",
    "        return 0\n",
    "    elif label == [\"Exclude\"]:\n",
    "        return -1\n",
    "    else:\n",
    "        raise ValueError(f\"Unknown label: {label}\")"
   ]
  },
  {
   "cell_type": "code",
   "execution_count": null,
   "metadata": {},
   "outputs": [],
   "source": [
    "output = [{\"filename\": item[\"metadata\"][\"Filename\"],\n",
    "            \"clean_label\": str_label_to_int(item[\"labels\"][\"image\"][\"clean_label\"]),\n",
    "            \"original_label\": item[\"metadata\"][\"Original Label\"],} for item in labeller.items]"
   ]
  },
  {
   "cell_type": "code",
   "execution_count": null,
   "metadata": {},
   "outputs": [],
   "source": [
    "output_df = pd.DataFrame(output)\n",
    "output_df.to_csv(f\"tmp/wv_datalab_{SPLIT}_cleaned.csv\", index=False)"
   ]
  }
 ],
 "metadata": {
  "kernelspec": {
   "display_name": "venv",
   "language": "python",
   "name": "python3"
  },
  "language_info": {
   "codemirror_mode": {
    "name": "ipython",
    "version": 3
   },
   "file_extension": ".py",
   "mimetype": "text/x-python",
   "name": "python",
   "nbconvert_exporter": "python",
   "pygments_lexer": "ipython3",
   "version": "3.10.12"
  }
 },
 "nbformat": 4,
 "nbformat_minor": 2
}
