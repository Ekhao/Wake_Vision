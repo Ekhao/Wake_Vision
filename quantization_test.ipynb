{
 "cells": [
  {
   "cell_type": "code",
   "execution_count": 1,
   "metadata": {},
   "outputs": [
    {
     "name": "stderr",
     "output_type": "stream",
     "text": [
      "2024-02-22 15:52:09.825281: I tensorflow/core/platform/cpu_feature_guard.cc:182] This TensorFlow binary is optimized to use available CPU instructions in performance-critical operations.\n",
      "To enable the following instructions: AVX2 AVX512F FMA, in other operations, rebuild TensorFlow with the appropriate compiler flags.\n"
     ]
    }
   ],
   "source": [
    "import keras\n",
    "import tensorflow as tf"
   ]
  },
  {
   "cell_type": "code",
   "execution_count": 2,
   "metadata": {},
   "outputs": [],
   "source": [
    "keras_model_path = \"gs://wake-vision-storage/saved_models/baseline_bbox_training_run2024_02_19-04_05_02_PM/wv_mobilenetv1.keras\"\n",
    "keras_model = keras.saving.load_model(keras_model_path)"
   ]
  },
  {
   "cell_type": "code",
   "execution_count": 4,
   "metadata": {},
   "outputs": [
    {
     "name": "stdout",
     "output_type": "stream",
     "text": [
      "INFO:tensorflow:Assets written to: /tmp/saved_model/assets\n"
     ]
    },
    {
     "name": "stderr",
     "output_type": "stream",
     "text": [
      "INFO:tensorflow:Assets written to: /tmp/saved_model/assets\n"
     ]
    },
    {
     "name": "stdout",
     "output_type": "stream",
     "text": [
      "Saved artifact at '/tmp/saved_model'. The following endpoints are available:\n",
      "\n",
      "* Endpoint 'serve'\n",
      "  args_0 (POSITIONAL_ONLY): TensorSpec(shape=(None, 224, 224, 3), dtype=tf.float32, name='input_layer')\n",
      "Output Type:\n",
      "  TensorSpec(shape=(None, 2), dtype=tf.float32, name=None)\n",
      "Captures:\n",
      "  140606163328288: TensorSpec(shape=(), dtype=tf.resource, name=None)\n",
      "  140606163714992: TensorSpec(shape=(), dtype=tf.resource, name=None)\n",
      "  140606163717280: TensorSpec(shape=(), dtype=tf.resource, name=None)\n",
      "  140606163333040: TensorSpec(shape=(), dtype=tf.resource, name=None)\n",
      "  140606163335504: TensorSpec(shape=(), dtype=tf.resource, name=None)\n",
      "  140606163718864: TensorSpec(shape=(), dtype=tf.resource, name=None)\n",
      "  140606163722208: TensorSpec(shape=(), dtype=tf.resource, name=None)\n",
      "  140606163723264: TensorSpec(shape=(), dtype=tf.resource, name=None)\n",
      "  140606163722736: TensorSpec(shape=(), dtype=tf.resource, name=None)\n",
      "  140606163719920: TensorSpec(shape=(), dtype=tf.resource, name=None)\n",
      "  140606163726784: TensorSpec(shape=(), dtype=tf.resource, name=None)\n",
      "  140606163763440: TensorSpec(shape=(), dtype=tf.resource, name=None)\n",
      "  140606163764672: TensorSpec(shape=(), dtype=tf.resource, name=None)\n",
      "  140606163729072: TensorSpec(shape=(), dtype=tf.resource, name=None)\n",
      "  140606163763616: TensorSpec(shape=(), dtype=tf.resource, name=None)\n",
      "  140606163766608: TensorSpec(shape=(), dtype=tf.resource, name=None)\n",
      "  140606163768896: TensorSpec(shape=(), dtype=tf.resource, name=None)\n",
      "  140606163769600: TensorSpec(shape=(), dtype=tf.resource, name=None)\n",
      "  140606163769072: TensorSpec(shape=(), dtype=tf.resource, name=None)\n",
      "  140606163766784: TensorSpec(shape=(), dtype=tf.resource, name=None)\n",
      "  140606163774528: TensorSpec(shape=(), dtype=tf.resource, name=None)\n",
      "  140606163776640: TensorSpec(shape=(), dtype=tf.resource, name=None)\n",
      "  140606163778928: TensorSpec(shape=(), dtype=tf.resource, name=None)\n",
      "  140606163776816: TensorSpec(shape=(), dtype=tf.resource, name=None)\n",
      "  140606163774176: TensorSpec(shape=(), dtype=tf.resource, name=None)\n",
      "  140606163865088: TensorSpec(shape=(), dtype=tf.resource, name=None)\n",
      "  140606163865792: TensorSpec(shape=(), dtype=tf.resource, name=None)\n",
      "  140606163867024: TensorSpec(shape=(), dtype=tf.resource, name=None)\n",
      "  140606163865968: TensorSpec(shape=(), dtype=tf.resource, name=None)\n",
      "  140606163864032: TensorSpec(shape=(), dtype=tf.resource, name=None)\n",
      "  140606163867552: TensorSpec(shape=(), dtype=tf.resource, name=None)\n",
      "  140606163871600: TensorSpec(shape=(), dtype=tf.resource, name=None)\n",
      "  140606163872304: TensorSpec(shape=(), dtype=tf.resource, name=None)\n",
      "  140606163871776: TensorSpec(shape=(), dtype=tf.resource, name=None)\n",
      "  140606163870016: TensorSpec(shape=(), dtype=tf.resource, name=None)\n",
      "  140606163877056: TensorSpec(shape=(), dtype=tf.resource, name=None)\n",
      "  140606163928160: TensorSpec(shape=(), dtype=tf.resource, name=None)\n",
      "  140606163927808: TensorSpec(shape=(), dtype=tf.resource, name=None)\n",
      "  140606163928336: TensorSpec(shape=(), dtype=tf.resource, name=None)\n",
      "  140606163927104: TensorSpec(shape=(), dtype=tf.resource, name=None)\n",
      "  140606163932208: TensorSpec(shape=(), dtype=tf.resource, name=None)\n",
      "  140606163934672: TensorSpec(shape=(), dtype=tf.resource, name=None)\n",
      "  140606163935376: TensorSpec(shape=(), dtype=tf.resource, name=None)\n",
      "  140606163934848: TensorSpec(shape=(), dtype=tf.resource, name=None)\n",
      "  140606163933088: TensorSpec(shape=(), dtype=tf.resource, name=None)\n",
      "  140606163939424: TensorSpec(shape=(), dtype=tf.resource, name=None)\n",
      "  140606164025408: TensorSpec(shape=(), dtype=tf.resource, name=None)\n",
      "  140606164027168: TensorSpec(shape=(), dtype=tf.resource, name=None)\n",
      "  140606163941712: TensorSpec(shape=(), dtype=tf.resource, name=None)\n",
      "  140606163943120: TensorSpec(shape=(), dtype=tf.resource, name=None)\n",
      "  140606164029632: TensorSpec(shape=(), dtype=tf.resource, name=None)\n",
      "  140606164031744: TensorSpec(shape=(), dtype=tf.resource, name=None)\n",
      "  140606164032448: TensorSpec(shape=(), dtype=tf.resource, name=None)\n",
      "  140606164031920: TensorSpec(shape=(), dtype=tf.resource, name=None)\n",
      "  140606164029280: TensorSpec(shape=(), dtype=tf.resource, name=None)\n",
      "  140606164036144: TensorSpec(shape=(), dtype=tf.resource, name=None)\n",
      "  140606164038608: TensorSpec(shape=(), dtype=tf.resource, name=None)\n",
      "  140606164040896: TensorSpec(shape=(), dtype=tf.resource, name=None)\n",
      "  140606164038784: TensorSpec(shape=(), dtype=tf.resource, name=None)\n",
      "  140606164037024: TensorSpec(shape=(), dtype=tf.resource, name=None)\n",
      "  140606164126176: TensorSpec(shape=(), dtype=tf.resource, name=None)\n",
      "  140606164126880: TensorSpec(shape=(), dtype=tf.resource, name=None)\n",
      "  140606164128112: TensorSpec(shape=(), dtype=tf.resource, name=None)\n",
      "  140606164127056: TensorSpec(shape=(), dtype=tf.resource, name=None)\n",
      "  140606164125120: TensorSpec(shape=(), dtype=tf.resource, name=None)\n",
      "  140606164131280: TensorSpec(shape=(), dtype=tf.resource, name=None)\n",
      "  140606164133568: TensorSpec(shape=(), dtype=tf.resource, name=None)\n",
      "  140606164134272: TensorSpec(shape=(), dtype=tf.resource, name=None)\n",
      "  140606164133744: TensorSpec(shape=(), dtype=tf.resource, name=None)\n",
      "  140606164131984: TensorSpec(shape=(), dtype=tf.resource, name=None)\n",
      "  140606164139376: TensorSpec(shape=(), dtype=tf.resource, name=None)\n",
      "  140606164173744: TensorSpec(shape=(), dtype=tf.resource, name=None)\n",
      "  140606164173392: TensorSpec(shape=(), dtype=tf.resource, name=None)\n",
      "  140606164173920: TensorSpec(shape=(), dtype=tf.resource, name=None)\n",
      "  140606164173216: TensorSpec(shape=(), dtype=tf.resource, name=None)\n",
      "  140606164178144: TensorSpec(shape=(), dtype=tf.resource, name=None)\n",
      "  140606164180432: TensorSpec(shape=(), dtype=tf.resource, name=None)\n",
      "  140606164181136: TensorSpec(shape=(), dtype=tf.resource, name=None)\n",
      "  140606164180608: TensorSpec(shape=(), dtype=tf.resource, name=None)\n",
      "  140606164178320: TensorSpec(shape=(), dtype=tf.resource, name=None)\n",
      "  140606164185008: TensorSpec(shape=(), dtype=tf.resource, name=None)\n",
      "  140606164188352: TensorSpec(shape=(), dtype=tf.resource, name=None)\n",
      "  140606164272752: TensorSpec(shape=(), dtype=tf.resource, name=None)\n",
      "  140606164187296: TensorSpec(shape=(), dtype=tf.resource, name=None)\n",
      "  140606164185712: TensorSpec(shape=(), dtype=tf.resource, name=None)\n",
      "  140606164273808: TensorSpec(shape=(), dtype=tf.resource, name=None)\n",
      "  140606164276272: TensorSpec(shape=(), dtype=tf.resource, name=None)\n",
      "  140606164276976: TensorSpec(shape=(), dtype=tf.resource, name=None)\n",
      "  140606164276448: TensorSpec(shape=(), dtype=tf.resource, name=None)\n",
      "  140606164274688: TensorSpec(shape=(), dtype=tf.resource, name=None)\n",
      "  140606164281024: TensorSpec(shape=(), dtype=tf.resource, name=None)\n",
      "  140606164283312: TensorSpec(shape=(), dtype=tf.resource, name=None)\n",
      "  140606164284016: TensorSpec(shape=(), dtype=tf.resource, name=None)\n",
      "  140606164283488: TensorSpec(shape=(), dtype=tf.resource, name=None)\n",
      "  140606164281200: TensorSpec(shape=(), dtype=tf.resource, name=None)\n",
      "  140606162274080: TensorSpec(shape=(), dtype=tf.resource, name=None)\n",
      "  140606162276192: TensorSpec(shape=(), dtype=tf.resource, name=None)\n",
      "  140606162276896: TensorSpec(shape=(), dtype=tf.resource, name=None)\n",
      "  140606162276368: TensorSpec(shape=(), dtype=tf.resource, name=None)\n",
      "  140606162273728: TensorSpec(shape=(), dtype=tf.resource, name=None)\n",
      "  140606162280592: TensorSpec(shape=(), dtype=tf.resource, name=None)\n",
      "  140606162283056: TensorSpec(shape=(), dtype=tf.resource, name=None)\n",
      "  140606162283760: TensorSpec(shape=(), dtype=tf.resource, name=None)\n",
      "  140606162283232: TensorSpec(shape=(), dtype=tf.resource, name=None)\n",
      "  140606162281472: TensorSpec(shape=(), dtype=tf.resource, name=None)\n",
      "  140606162287984: TensorSpec(shape=(), dtype=tf.resource, name=None)\n",
      "  140606162338736: TensorSpec(shape=(), dtype=tf.resource, name=None)\n",
      "  140606162338384: TensorSpec(shape=(), dtype=tf.resource, name=None)\n",
      "  140606162338912: TensorSpec(shape=(), dtype=tf.resource, name=None)\n",
      "  140606162338208: TensorSpec(shape=(), dtype=tf.resource, name=None)\n",
      "  140606162342960: TensorSpec(shape=(), dtype=tf.resource, name=None)\n",
      "  140606162345248: TensorSpec(shape=(), dtype=tf.resource, name=None)\n",
      "  140606162345952: TensorSpec(shape=(), dtype=tf.resource, name=None)\n",
      "  140606162345424: TensorSpec(shape=(), dtype=tf.resource, name=None)\n",
      "  140606162343664: TensorSpec(shape=(), dtype=tf.resource, name=None)\n",
      "  140606162349648: TensorSpec(shape=(), dtype=tf.resource, name=None)\n",
      "  140606162352816: TensorSpec(shape=(), dtype=tf.resource, name=None)\n",
      "  140606162453952: TensorSpec(shape=(), dtype=tf.resource, name=None)\n",
      "  140606162352288: TensorSpec(shape=(), dtype=tf.resource, name=None)\n",
      "  140606162350528: TensorSpec(shape=(), dtype=tf.resource, name=None)\n",
      "  140606162455360: TensorSpec(shape=(), dtype=tf.resource, name=None)\n",
      "  140606162457648: TensorSpec(shape=(), dtype=tf.resource, name=None)\n",
      "  140606162458352: TensorSpec(shape=(), dtype=tf.resource, name=None)\n",
      "  140606162457824: TensorSpec(shape=(), dtype=tf.resource, name=None)\n",
      "  140606162455536: TensorSpec(shape=(), dtype=tf.resource, name=None)\n",
      "  140606162462224: TensorSpec(shape=(), dtype=tf.resource, name=None)\n",
      "  140606162464512: TensorSpec(shape=(), dtype=tf.resource, name=None)\n",
      "  140606162465216: TensorSpec(shape=(), dtype=tf.resource, name=None)\n",
      "  140606162464688: TensorSpec(shape=(), dtype=tf.resource, name=None)\n",
      "  140606162462928: TensorSpec(shape=(), dtype=tf.resource, name=None)\n",
      "  140606162520192: TensorSpec(shape=(), dtype=tf.resource, name=None)\n",
      "  140606162520896: TensorSpec(shape=(), dtype=tf.resource, name=None)\n",
      "  140606162522128: TensorSpec(shape=(), dtype=tf.resource, name=None)\n",
      "  140606162521072: TensorSpec(shape=(), dtype=tf.resource, name=None)\n",
      "  140606162519136: TensorSpec(shape=(), dtype=tf.resource, name=None)\n",
      "  140606162525472: TensorSpec(shape=(), dtype=tf.resource, name=None)\n",
      "  140606162527760: TensorSpec(shape=(), dtype=tf.resource, name=None)\n",
      "  140606162528464: TensorSpec(shape=(), dtype=tf.resource, name=None)\n",
      "  140606162527936: TensorSpec(shape=(), dtype=tf.resource, name=None)\n",
      "  140606162525648: TensorSpec(shape=(), dtype=tf.resource, name=None)\n",
      "  140606162532336: TensorSpec(shape=(), dtype=tf.resource, name=None)\n",
      "  140606162617088: TensorSpec(shape=(), dtype=tf.resource, name=None)\n",
      "  140606162616736: TensorSpec(shape=(), dtype=tf.resource, name=None)\n",
      "  140606162617264: TensorSpec(shape=(), dtype=tf.resource, name=None)\n",
      "  140606162616384: TensorSpec(shape=(), dtype=tf.resource, name=None)\n",
      "  140606162621136: TensorSpec(shape=(), dtype=tf.resource, name=None)\n",
      "  140606162623600: TensorSpec(shape=(), dtype=tf.resource, name=None)\n",
      "  140606162624304: TensorSpec(shape=(), dtype=tf.resource, name=None)\n",
      "  140606162623776: TensorSpec(shape=(), dtype=tf.resource, name=None)\n",
      "  140606162622016: TensorSpec(shape=(), dtype=tf.resource, name=None)\n",
      "  140606162628352: TensorSpec(shape=(), dtype=tf.resource, name=None)\n",
      "  140606162631344: TensorSpec(shape=(), dtype=tf.resource, name=None)\n",
      "  140606162699712: TensorSpec(shape=(), dtype=tf.resource, name=None)\n",
      "  140606162630816: TensorSpec(shape=(), dtype=tf.resource, name=None)\n",
      "  140606162628528: TensorSpec(shape=(), dtype=tf.resource, name=None)\n",
      "  140606162700944: TensorSpec(shape=(), dtype=tf.resource, name=None)\n",
      "  140606162703232: TensorSpec(shape=(), dtype=tf.resource, name=None)\n",
      "  140606162703936: TensorSpec(shape=(), dtype=tf.resource, name=None)\n",
      "  140606162703408: TensorSpec(shape=(), dtype=tf.resource, name=None)\n",
      "  140606162701648: TensorSpec(shape=(), dtype=tf.resource, name=None)\n",
      "  140606162707632: TensorSpec(shape=(), dtype=tf.resource, name=None)\n",
      "  140606162710096: TensorSpec(shape=(), dtype=tf.resource, name=None)\n",
      "  140606162710800: TensorSpec(shape=(), dtype=tf.resource, name=None)\n",
      "  140606162710272: TensorSpec(shape=(), dtype=tf.resource, name=None)\n",
      "  140606162708512: TensorSpec(shape=(), dtype=tf.resource, name=None)\n",
      "  140606162781104: TensorSpec(shape=(), dtype=tf.resource, name=None)\n",
      "  140606162781984: TensorSpec(shape=(), dtype=tf.resource, name=None)\n",
      "  140606162783216: TensorSpec(shape=(), dtype=tf.resource, name=None)\n",
      "  140606162782160: TensorSpec(shape=(), dtype=tf.resource, name=None)\n",
      "  140606162780224: TensorSpec(shape=(), dtype=tf.resource, name=None)\n",
      "  140606162786384: TensorSpec(shape=(), dtype=tf.resource, name=None)\n",
      "  140606162788672: TensorSpec(shape=(), dtype=tf.resource, name=None)\n",
      "  140606162789376: TensorSpec(shape=(), dtype=tf.resource, name=None)\n",
      "  140606162788848: TensorSpec(shape=(), dtype=tf.resource, name=None)\n",
      "  140606162787088: TensorSpec(shape=(), dtype=tf.resource, name=None)\n",
      "  140606162793072: TensorSpec(shape=(), dtype=tf.resource, name=None)\n",
      "  140606162831136: TensorSpec(shape=(), dtype=tf.resource, name=None)\n",
      "  140606162829552: TensorSpec(shape=(), dtype=tf.resource, name=None)\n",
      "  140606162796240: TensorSpec(shape=(), dtype=tf.resource, name=None)\n",
      "  140606162830080: TensorSpec(shape=(), dtype=tf.resource, name=None)\n",
      "  140606162833248: TensorSpec(shape=(), dtype=tf.resource, name=None)\n",
      "  140606162835536: TensorSpec(shape=(), dtype=tf.resource, name=None)\n",
      "  140606162836240: TensorSpec(shape=(), dtype=tf.resource, name=None)\n",
      "  140606162835712: TensorSpec(shape=(), dtype=tf.resource, name=None)\n",
      "  140606162833424: TensorSpec(shape=(), dtype=tf.resource, name=None)\n",
      "  140606162840112: TensorSpec(shape=(), dtype=tf.resource, name=None)\n",
      "  140606162842400: TensorSpec(shape=(), dtype=tf.resource, name=None)\n",
      "  140606162844688: TensorSpec(shape=(), dtype=tf.resource, name=None)\n",
      "  140606162842576: TensorSpec(shape=(), dtype=tf.resource, name=None)\n",
      "  140606162840816: TensorSpec(shape=(), dtype=tf.resource, name=None)\n",
      "  140606162914464: TensorSpec(shape=(), dtype=tf.resource, name=None)\n",
      "  140606162915168: TensorSpec(shape=(), dtype=tf.resource, name=None)\n",
      "  140606162916400: TensorSpec(shape=(), dtype=tf.resource, name=None)\n",
      "  140606162915344: TensorSpec(shape=(), dtype=tf.resource, name=None)\n",
      "  140606162913408: TensorSpec(shape=(), dtype=tf.resource, name=None)\n",
      "  140606162919744: TensorSpec(shape=(), dtype=tf.resource, name=None)\n",
      "  140606162922032: TensorSpec(shape=(), dtype=tf.resource, name=None)\n",
      "  140606162922736: TensorSpec(shape=(), dtype=tf.resource, name=None)\n",
      "  140606162922208: TensorSpec(shape=(), dtype=tf.resource, name=None)\n",
      "  140606162919920: TensorSpec(shape=(), dtype=tf.resource, name=None)\n",
      "  140606163010304: TensorSpec(shape=(), dtype=tf.resource, name=None)\n",
      "  140606163012064: TensorSpec(shape=(), dtype=tf.resource, name=None)\n",
      "  140606163012768: TensorSpec(shape=(), dtype=tf.resource, name=None)\n",
      "  140606163012240: TensorSpec(shape=(), dtype=tf.resource, name=None)\n",
      "  140606163009600: TensorSpec(shape=(), dtype=tf.resource, name=None)\n",
      "  140606163016464: TensorSpec(shape=(), dtype=tf.resource, name=None)\n",
      "  140606163018928: TensorSpec(shape=(), dtype=tf.resource, name=None)\n",
      "  140606163019632: TensorSpec(shape=(), dtype=tf.resource, name=None)\n",
      "  140606163019104: TensorSpec(shape=(), dtype=tf.resource, name=None)\n",
      "  140606163017344: TensorSpec(shape=(), dtype=tf.resource, name=None)\n",
      "  140606163020864: TensorSpec(shape=(), dtype=tf.resource, name=None)\n",
      "  140606163093280: TensorSpec(shape=(), dtype=tf.resource, name=None)\n",
      "  140606163091696: TensorSpec(shape=(), dtype=tf.resource, name=None)\n",
      "  140606163025616: TensorSpec(shape=(), dtype=tf.resource, name=None)\n",
      "  140606163092224: TensorSpec(shape=(), dtype=tf.resource, name=None)\n",
      "  140606163095216: TensorSpec(shape=(), dtype=tf.resource, name=None)\n",
      "  140606163097504: TensorSpec(shape=(), dtype=tf.resource, name=None)\n",
      "  140606163098208: TensorSpec(shape=(), dtype=tf.resource, name=None)\n",
      "  140606163097680: TensorSpec(shape=(), dtype=tf.resource, name=None)\n",
      "  140606163095920: TensorSpec(shape=(), dtype=tf.resource, name=None)\n",
      "  140606163101904: TensorSpec(shape=(), dtype=tf.resource, name=None)\n",
      "  140606163104368: TensorSpec(shape=(), dtype=tf.resource, name=None)\n",
      "  140606163106656: TensorSpec(shape=(), dtype=tf.resource, name=None)\n",
      "  140606163104544: TensorSpec(shape=(), dtype=tf.resource, name=None)\n",
      "  140606163102784: TensorSpec(shape=(), dtype=tf.resource, name=None)\n",
      "  140606163174848: TensorSpec(shape=(), dtype=tf.resource, name=None)\n",
      "  140606163177136: TensorSpec(shape=(), dtype=tf.resource, name=None)\n",
      "  140606163177840: TensorSpec(shape=(), dtype=tf.resource, name=None)\n",
      "  140606163177312: TensorSpec(shape=(), dtype=tf.resource, name=None)\n",
      "  140606163175024: TensorSpec(shape=(), dtype=tf.resource, name=None)\n",
      "  140606163181712: TensorSpec(shape=(), dtype=tf.resource, name=None)\n",
      "  140606163184000: TensorSpec(shape=(), dtype=tf.resource, name=None)\n",
      "  140606163184704: TensorSpec(shape=(), dtype=tf.resource, name=None)\n",
      "  140606163184176: TensorSpec(shape=(), dtype=tf.resource, name=None)\n",
      "  140606163182416: TensorSpec(shape=(), dtype=tf.resource, name=None)\n",
      "  140606163187872: TensorSpec(shape=(), dtype=tf.resource, name=None)\n",
      "  140606163240384: TensorSpec(shape=(), dtype=tf.resource, name=None)\n",
      "  140606163241616: TensorSpec(shape=(), dtype=tf.resource, name=None)\n",
      "  140606163240560: TensorSpec(shape=(), dtype=tf.resource, name=None)\n",
      "  140606163239152: TensorSpec(shape=(), dtype=tf.resource, name=None)\n",
      "  140606163244960: TensorSpec(shape=(), dtype=tf.resource, name=None)\n",
      "  140606163247248: TensorSpec(shape=(), dtype=tf.resource, name=None)\n",
      "  140606163247952: TensorSpec(shape=(), dtype=tf.resource, name=None)\n",
      "  140606163247424: TensorSpec(shape=(), dtype=tf.resource, name=None)\n",
      "  140606163245136: TensorSpec(shape=(), dtype=tf.resource, name=None)\n",
      "  140606163251824: TensorSpec(shape=(), dtype=tf.resource, name=None)\n",
      "  140606161240480: TensorSpec(shape=(), dtype=tf.resource, name=None)\n",
      "  140606161241712: TensorSpec(shape=(), dtype=tf.resource, name=None)\n",
      "  140606163254112: TensorSpec(shape=(), dtype=tf.resource, name=None)\n",
      "  140606161240656: TensorSpec(shape=(), dtype=tf.resource, name=None)\n",
      "  140606161243472: TensorSpec(shape=(), dtype=tf.resource, name=None)\n",
      "  140606161245936: TensorSpec(shape=(), dtype=tf.resource, name=None)\n",
      "  140606161246640: TensorSpec(shape=(), dtype=tf.resource, name=None)\n",
      "  140606161246112: TensorSpec(shape=(), dtype=tf.resource, name=None)\n",
      "  140606161244352: TensorSpec(shape=(), dtype=tf.resource, name=None)\n",
      "  140606161247872: TensorSpec(shape=(), dtype=tf.resource, name=None)\n",
      "  140606161251920: TensorSpec(shape=(), dtype=tf.resource, name=None)\n",
      "  140606161252624: TensorSpec(shape=(), dtype=tf.resource, name=None)\n",
      "  140606161252096: TensorSpec(shape=(), dtype=tf.resource, name=None)\n",
      "  140606161250336: TensorSpec(shape=(), dtype=tf.resource, name=None)\n",
      "  140606161323456: TensorSpec(shape=(), dtype=tf.resource, name=None)\n",
      "  140606161324864: TensorSpec(shape=(), dtype=tf.resource, name=None)\n"
     ]
    }
   ],
   "source": [
    "saved_model_path = \"/tmp/saved_model\"\n",
    "!rm -rf {saved_model_path}\n",
    "keras_model.export(saved_model_path, format=\"tf_saved_model\")"
   ]
  },
  {
   "cell_type": "code",
   "execution_count": 7,
   "metadata": {},
   "outputs": [
    {
     "name": "stderr",
     "output_type": "stream",
     "text": [
      "2024-02-22 15:57:09.208995: I tensorflow/core/grappler/optimizers/data/replicate_on_split.cc:32] Running replicate on split optimization\n",
      "2024-02-22 15:57:18.161107: I tensorflow/core/grappler/optimizers/data/replicate_on_split.cc:32] Running replicate on split optimization\n",
      "2024-02-22 15:57:26.350363: I tensorflow/core/grappler/optimizers/data/replicate_on_split.cc:32] Running replicate on split optimization\n"
     ]
    }
   ],
   "source": [
    "# load val data\n",
    "import wake_vision_loader\n",
    "\n",
    "_, val_ds, _ = wake_vision_loader.get_wake_vision(batch_size=1)"
   ]
  },
  {
   "cell_type": "code",
   "execution_count": 8,
   "metadata": {},
   "outputs": [],
   "source": [
    "def representative_dataset_gen():\n",
    "    for image, _ in val_ds.take(100):\n",
    "        yield [image]"
   ]
  },
  {
   "cell_type": "code",
   "execution_count": 43,
   "metadata": {},
   "outputs": [
    {
     "name": "stderr",
     "output_type": "stream",
     "text": [
      "2024-02-22 19:48:35.731513: W tensorflow/compiler/mlir/lite/python/tf_tfl_flatbuffer_helpers.cc:378] Ignored output_format.\n",
      "2024-02-22 19:48:35.731573: W tensorflow/compiler/mlir/lite/python/tf_tfl_flatbuffer_helpers.cc:381] Ignored drop_control_dependency.\n",
      "2024-02-22 19:48:35.732169: I tensorflow/cc/saved_model/reader.cc:83] Reading SavedModel from: /tmp/saved_model\n",
      "2024-02-22 19:48:35.765500: I tensorflow/cc/saved_model/reader.cc:51] Reading meta graph with tags { serve }\n",
      "2024-02-22 19:48:35.765536: I tensorflow/cc/saved_model/reader.cc:146] Reading SavedModel debug info (if present) from: /tmp/saved_model\n",
      "2024-02-22 19:48:35.892339: I tensorflow/cc/saved_model/loader.cc:233] Restoring SavedModel bundle.\n",
      "2024-02-22 19:48:37.763523: I tensorflow/cc/saved_model/loader.cc:217] Running initialization op on SavedModel bundle at path: /tmp/saved_model\n",
      "2024-02-22 19:48:38.263604: I tensorflow/cc/saved_model/loader.cc:316] SavedModel load for tags { serve }; Status: success: OK. Took 2531434 microseconds.\n",
      "Summary on the non-converted ops:\n",
      "---------------------------------\n",
      " * Accepted dialects: tfl, builtin, func\n",
      " * Non-Converted Ops: 108, Total Ops 181, % non-converted = 59.67 %\n",
      " * 108 ARITH ops\n",
      "\n",
      "- arith.constant:  108 occurrences  (f32: 106, i32: 2)\n",
      "\n",
      "\n",
      "\n",
      "  (f32: 11)\n",
      "  (f32: 35)\n",
      "  (f32: 17)\n",
      "  (f32: 1)\n",
      "  (f32: 1)\n",
      "  (f32: 4)\n",
      "  (f32: 1)\n",
      "2024-02-22 19:53:39.010579: W tensorflow/core/framework/local_rendezvous.cc:404] Local rendezvous is aborting with status: OUT_OF_RANGE: End of sequence\n",
      "fully_quantize: 0, inference_type: 6, input_inference_type: INT8, output_inference_type: INT8\n"
     ]
    }
   ],
   "source": [
    "converter = tf.lite.TFLiteConverter.from_saved_model(saved_model_path)\n",
    "converter.optimizations = [tf.lite.Optimize.DEFAULT]\n",
    "converter.representative_dataset = representative_dataset_gen\n",
    "converter.target_spec.supported_ops = [tf.lite.OpsSet.TFLITE_BUILTINS_INT8]\n",
    "tflite_quant_model = converter.convert()"
   ]
  },
  {
   "cell_type": "code",
   "execution_count": 21,
   "metadata": {},
   "outputs": [],
   "source": [
    "interpreter = tf.lite.Interpreter(model_content=tflite_quant_model)"
   ]
  },
  {
   "cell_type": "code",
   "execution_count": 22,
   "metadata": {},
   "outputs": [
    {
     "data": {
      "text/plain": [
       "{'serving_default': {'inputs': ['input_layer'], 'outputs': ['output_0']}}"
      ]
     },
     "execution_count": 22,
     "metadata": {},
     "output_type": "execute_result"
    }
   ],
   "source": [
    "interpreter.get_signature_list()"
   ]
  },
  {
   "cell_type": "code",
   "execution_count": 24,
   "metadata": {},
   "outputs": [
    {
     "name": "stdout",
     "output_type": "stream",
     "text": [
      "[{'name': 'serving_default_input_layer:0', 'index': 0, 'shape': array([  1, 224, 224,   3], dtype=int32), 'shape_signature': array([ -1, 224, 224,   3], dtype=int32), 'dtype': <class 'numpy.float32'>, 'quantization': (0.0, 0), 'quantization_parameters': {'scales': array([], dtype=float32), 'zero_points': array([], dtype=int32), 'quantized_dimension': 0}, 'sparsity_parameters': {}}]\n"
     ]
    }
   ],
   "source": [
    "print(interpreter.get_input_details())"
   ]
  },
  {
   "cell_type": "code",
   "execution_count": 25,
   "metadata": {},
   "outputs": [],
   "source": [
    "model = interpreter.get_signature_runner()"
   ]
  },
  {
   "cell_type": "code",
   "execution_count": 36,
   "metadata": {},
   "outputs": [],
   "source": [
    "batch_size = 64\n",
    "val_ds = val_ds.unbatch().batch(batch_size)"
   ]
  },
  {
   "cell_type": "code",
   "execution_count": 37,
   "metadata": {},
   "outputs": [
    {
     "name": "stderr",
     "output_type": "stream",
     "text": [
      "2024-02-22 16:26:06.564789: W tensorflow/core/framework/local_rendezvous.cc:404] Local rendezvous is aborting with status: OUT_OF_RANGE: End of sequence\n"
     ]
    }
   ],
   "source": [
    "num_correct = 0\n",
    "num_batches = 0\n",
    "for image, label in val_ds:\n",
    "    num_batches += 1\n",
    "    probs = model(input_layer=image)[\"output_0\"]\n",
    "    num_correct += (tf.argmax(probs, axis=1).numpy() == label.numpy()).sum()"
   ]
  },
  {
   "cell_type": "code",
   "execution_count": 39,
   "metadata": {},
   "outputs": [
    {
     "name": "stdout",
     "output_type": "stream",
     "text": [
      "Accuracy:  0.8820405138339921\n"
     ]
    }
   ],
   "source": [
    "print(\"Accuracy: \", num_correct / (num_batches * batch_size))"
   ]
  },
  {
   "cell_type": "code",
   "execution_count": 40,
   "metadata": {},
   "outputs": [
    {
     "name": "stderr",
     "output_type": "stream",
     "text": [
      "2024-02-22 19:32:49.441997: I tensorflow/core/grappler/optimizers/data/replicate_on_split.cc:32] Running replicate on split optimization\n"
     ]
    }
   ],
   "source": [
    "miap_ds = wake_vision_loader.get_miaps(batch_size=batch_size)"
   ]
  },
  {
   "cell_type": "code",
   "execution_count": 42,
   "metadata": {},
   "outputs": [
    {
     "name": "stderr",
     "output_type": "stream",
     "text": [
      "2024-02-22 19:34:27.208972: W tensorflow/core/framework/local_rendezvous.cc:404] Local rendezvous is aborting with status: OUT_OF_RANGE: End of sequence\n"
     ]
    },
    {
     "name": "stdout",
     "output_type": "stream",
     "text": [
      "female accuracy:  0.8763786764705882\n"
     ]
    },
    {
     "name": "stderr",
     "output_type": "stream",
     "text": [
      "2024-02-22 19:35:38.597235: W tensorflow/core/framework/local_rendezvous.cc:404] Local rendezvous is aborting with status: OUT_OF_RANGE: End of sequence\n"
     ]
    },
    {
     "name": "stdout",
     "output_type": "stream",
     "text": [
      "male accuracy:  0.8712284482758621\n"
     ]
    },
    {
     "name": "stderr",
     "output_type": "stream",
     "text": [
      "2024-02-22 19:37:06.251093: W tensorflow/core/framework/local_rendezvous.cc:404] Local rendezvous is aborting with status: OUT_OF_RANGE: End of sequence\n"
     ]
    },
    {
     "name": "stdout",
     "output_type": "stream",
     "text": [
      "gender_unknown accuracy:  0.6545833333333333\n"
     ]
    },
    {
     "name": "stderr",
     "output_type": "stream",
     "text": [
      "2024-02-22 19:37:41.865433: W tensorflow/core/framework/local_rendezvous.cc:404] Local rendezvous is aborting with status: OUT_OF_RANGE: End of sequence\n"
     ]
    },
    {
     "name": "stdout",
     "output_type": "stream",
     "text": [
      "young accuracy:  0.875\n"
     ]
    },
    {
     "name": "stderr",
     "output_type": "stream",
     "text": [
      "2024-02-22 19:39:31.170695: W tensorflow/core/framework/local_rendezvous.cc:404] Local rendezvous is aborting with status: OUT_OF_RANGE: End of sequence\n"
     ]
    },
    {
     "name": "stdout",
     "output_type": "stream",
     "text": [
      "middle accuracy:  0.8726325757575758\n"
     ]
    },
    {
     "name": "stderr",
     "output_type": "stream",
     "text": [
      "2024-02-22 19:40:08.041456: W tensorflow/core/framework/local_rendezvous.cc:404] Local rendezvous is aborting with status: OUT_OF_RANGE: End of sequence\n"
     ]
    },
    {
     "name": "stdout",
     "output_type": "stream",
     "text": [
      "older accuracy:  0.765625\n"
     ]
    },
    {
     "name": "stderr",
     "output_type": "stream",
     "text": [
      "2024-02-22 19:41:22.733379: W tensorflow/core/framework/local_rendezvous.cc:404] Local rendezvous is aborting with status: OUT_OF_RANGE: End of sequence\n"
     ]
    },
    {
     "name": "stdout",
     "output_type": "stream",
     "text": [
      "age_unknown accuracy:  0.5797413793103449\n"
     ]
    },
    {
     "name": "stderr",
     "output_type": "stream",
     "text": [
      "2024-02-22 19:47:44.265145: W tensorflow/core/framework/local_rendezvous.cc:404] Local rendezvous is aborting with status: OUT_OF_RANGE: End of sequence\n"
     ]
    },
    {
     "name": "stdout",
     "output_type": "stream",
     "text": [
      "no_person accuracy:  0.9692831364829396\n"
     ]
    }
   ],
   "source": [
    "for name, ds in miap_ds.items():\n",
    "    num_correct = 0\n",
    "    num_batches = 0\n",
    "    for image, label in ds:\n",
    "        num_batches += 1\n",
    "        probs = model(input_layer=image)[\"output_0\"]\n",
    "        num_correct += (tf.argmax(probs, axis=1).numpy() == label.numpy()).sum()\n",
    "    print(f\"{name} accuracy: \", num_correct / (num_batches * batch_size))\n",
    "    "
   ]
  },
  {
   "cell_type": "code",
   "execution_count": null,
   "metadata": {},
   "outputs": [],
   "source": []
  }
 ],
 "metadata": {
  "kernelspec": {
   "display_name": "Python 3",
   "language": "python",
   "name": "python3"
  },
  "language_info": {
   "codemirror_mode": {
    "name": "ipython",
    "version": 3
   },
   "file_extension": ".py",
   "mimetype": "text/x-python",
   "name": "python",
   "nbconvert_exporter": "python",
   "pygments_lexer": "ipython3",
   "version": "3.10.12"
  }
 },
 "nbformat": 4,
 "nbformat_minor": 2
}
