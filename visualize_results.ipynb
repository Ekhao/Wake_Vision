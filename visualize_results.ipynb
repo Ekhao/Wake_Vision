{
 "cells": [
  {
   "cell_type": "code",
   "execution_count": 16,
   "metadata": {},
   "outputs": [],
   "source": [
    "import pandas as pd\n",
    "import seaborn as sns\n",
    "import matplotlib.pyplot as plt"
   ]
  },
  {
   "cell_type": "code",
   "execution_count": 235,
   "metadata": {},
   "outputs": [],
   "source": [
    "model_size = pd.read_csv('benchmark_results_model_size.csv')\n",
    "image_size = pd.read_csv('benchmark_results_image_size.csv')\n",
    "macs = pd.read_csv('benchmark_results_macs.csv')"
   ]
  },
  {
   "cell_type": "code",
   "execution_count": 236,
   "metadata": {},
   "outputs": [],
   "source": [
    "merged_df  = pd.concat([model_size, image_size])\n",
    "merged_df = pd.merge(merged_df, macs, on='model', how='outer')"
   ]
  },
  {
   "cell_type": "code",
   "execution_count": 237,
   "metadata": {},
   "outputs": [],
   "source": [
    "# drop bad columns\n",
    "merged_df = merged_df.drop(columns=['Unnamed: 0_x', 'Unnamed: 0_y'])"
   ]
  },
  {
   "cell_type": "code",
   "execution_count": 233,
   "metadata": {},
   "outputs": [
    {
     "data": {
      "text/html": [
       "<div>\n",
       "<style scoped>\n",
       "    .dataframe tbody tr th:only-of-type {\n",
       "        vertical-align: middle;\n",
       "    }\n",
       "\n",
       "    .dataframe tbody tr th {\n",
       "        vertical-align: top;\n",
       "    }\n",
       "\n",
       "    .dataframe thead th {\n",
       "        text-align: right;\n",
       "    }\n",
       "</style>\n",
       "<table border=\"1\" class=\"dataframe\">\n",
       "  <thead>\n",
       "    <tr style=\"text-align: right;\">\n",
       "      <th></th>\n",
       "      <th>Unnamed: 0_x</th>\n",
       "      <th>model</th>\n",
       "      <th>wv_test_score</th>\n",
       "      <th>vww_test_score</th>\n",
       "      <th>distance-near</th>\n",
       "      <th>distance-mid</th>\n",
       "      <th>distance-far</th>\n",
       "      <th>miap-female</th>\n",
       "      <th>miap-male</th>\n",
       "      <th>miap-unknown-gender</th>\n",
       "      <th>...</th>\n",
       "      <th>miap-unknown-age</th>\n",
       "      <th>lighting-dark</th>\n",
       "      <th>lighting-normal_light</th>\n",
       "      <th>lighting-bright</th>\n",
       "      <th>hands</th>\n",
       "      <th>feet</th>\n",
       "      <th>depictions_persons</th>\n",
       "      <th>depictions_non_persons</th>\n",
       "      <th>non_person_no_depictions</th>\n",
       "      <th>macs</th>\n",
       "    </tr>\n",
       "  </thead>\n",
       "  <tbody>\n",
       "    <tr>\n",
       "      <th>0</th>\n",
       "      <td>0</td>\n",
       "      <td>wv_small_mobilenetv2_0.1</td>\n",
       "      <td>0.882980</td>\n",
       "      <td>0.878259</td>\n",
       "      <td>0.746239</td>\n",
       "      <td>0.704632</td>\n",
       "      <td>0.616531</td>\n",
       "      <td>0.931714</td>\n",
       "      <td>0.920124</td>\n",
       "      <td>0.771107</td>\n",
       "      <td>...</td>\n",
       "      <td>0.722046</td>\n",
       "      <td>0.869813</td>\n",
       "      <td>0.872199</td>\n",
       "      <td>0.849047</td>\n",
       "      <td>0.451978</td>\n",
       "      <td>0.334645</td>\n",
       "      <td>0.816389</td>\n",
       "      <td>0.890970</td>\n",
       "      <td>0.894372</td>\n",
       "      <td>25382208</td>\n",
       "    </tr>\n",
       "    <tr>\n",
       "      <th>1</th>\n",
       "      <td>1</td>\n",
       "      <td>wv_small_mobilenetv2_0.25</td>\n",
       "      <td>0.886529</td>\n",
       "      <td>0.885320</td>\n",
       "      <td>0.750479</td>\n",
       "      <td>0.708523</td>\n",
       "      <td>0.623482</td>\n",
       "      <td>0.940007</td>\n",
       "      <td>0.927571</td>\n",
       "      <td>0.781281</td>\n",
       "      <td>...</td>\n",
       "      <td>0.736045</td>\n",
       "      <td>0.883176</td>\n",
       "      <td>0.874035</td>\n",
       "      <td>0.848383</td>\n",
       "      <td>0.436412</td>\n",
       "      <td>0.294801</td>\n",
       "      <td>0.831509</td>\n",
       "      <td>0.897695</td>\n",
       "      <td>0.897395</td>\n",
       "      <td>35923872</td>\n",
       "    </tr>\n",
       "    <tr>\n",
       "      <th>2</th>\n",
       "      <td>2</td>\n",
       "      <td>wv_small_mobilenetv2_0.35</td>\n",
       "      <td>0.896513</td>\n",
       "      <td>0.896060</td>\n",
       "      <td>0.760727</td>\n",
       "      <td>0.724374</td>\n",
       "      <td>0.639738</td>\n",
       "      <td>0.947140</td>\n",
       "      <td>0.935738</td>\n",
       "      <td>0.796178</td>\n",
       "      <td>...</td>\n",
       "      <td>0.749258</td>\n",
       "      <td>0.889526</td>\n",
       "      <td>0.887227</td>\n",
       "      <td>0.857030</td>\n",
       "      <td>0.467994</td>\n",
       "      <td>0.448797</td>\n",
       "      <td>0.833199</td>\n",
       "      <td>0.903516</td>\n",
       "      <td>0.906074</td>\n",
       "      <td>58008368</td>\n",
       "    </tr>\n",
       "    <tr>\n",
       "      <th>3</th>\n",
       "      <td>3</td>\n",
       "      <td>wv_small_mobilenetv2_0.5</td>\n",
       "      <td>0.897722</td>\n",
       "      <td>0.901220</td>\n",
       "      <td>0.764619</td>\n",
       "      <td>0.729172</td>\n",
       "      <td>0.648773</td>\n",
       "      <td>0.949148</td>\n",
       "      <td>0.938513</td>\n",
       "      <td>0.794951</td>\n",
       "      <td>...</td>\n",
       "      <td>0.746258</td>\n",
       "      <td>0.892190</td>\n",
       "      <td>0.888509</td>\n",
       "      <td>0.859403</td>\n",
       "      <td>0.428156</td>\n",
       "      <td>0.337393</td>\n",
       "      <td>0.839227</td>\n",
       "      <td>0.903873</td>\n",
       "      <td>0.907408</td>\n",
       "      <td>95854400</td>\n",
       "    </tr>\n",
       "    <tr>\n",
       "      <th>4</th>\n",
       "      <td>4</td>\n",
       "      <td>wv_small_mobilenetv2_1.0</td>\n",
       "      <td>0.904021</td>\n",
       "      <td>0.908602</td>\n",
       "      <td>0.771914</td>\n",
       "      <td>0.739510</td>\n",
       "      <td>0.660799</td>\n",
       "      <td>0.959689</td>\n",
       "      <td>0.946302</td>\n",
       "      <td>0.805028</td>\n",
       "      <td>...</td>\n",
       "      <td>0.755436</td>\n",
       "      <td>0.898148</td>\n",
       "      <td>0.896408</td>\n",
       "      <td>0.865272</td>\n",
       "      <td>0.414826</td>\n",
       "      <td>0.377142</td>\n",
       "      <td>0.844626</td>\n",
       "      <td>0.912944</td>\n",
       "      <td>0.912642</td>\n",
       "      <td>299496832</td>\n",
       "    </tr>\n",
       "    <tr>\n",
       "      <th>5</th>\n",
       "      <td>5</td>\n",
       "      <td>wv_small_mobilenetv2_1.5</td>\n",
       "      <td>0.908018</td>\n",
       "      <td>0.911614</td>\n",
       "      <td>0.776859</td>\n",
       "      <td>0.747043</td>\n",
       "      <td>0.670924</td>\n",
       "      <td>0.962689</td>\n",
       "      <td>0.953902</td>\n",
       "      <td>0.811407</td>\n",
       "      <td>...</td>\n",
       "      <td>0.762260</td>\n",
       "      <td>0.903298</td>\n",
       "      <td>0.900827</td>\n",
       "      <td>0.871726</td>\n",
       "      <td>0.443145</td>\n",
       "      <td>0.450742</td>\n",
       "      <td>0.855220</td>\n",
       "      <td>0.916249</td>\n",
       "      <td>0.916086</td>\n",
       "      <td>670916544</td>\n",
       "    </tr>\n",
       "    <tr>\n",
       "      <th>6</th>\n",
       "      <td>0</td>\n",
       "      <td>wv_small_mobilenetv2_224</td>\n",
       "      <td>0.886256</td>\n",
       "      <td>0.884456</td>\n",
       "      <td>0.752811</td>\n",
       "      <td>0.710045</td>\n",
       "      <td>0.629124</td>\n",
       "      <td>0.937129</td>\n",
       "      <td>0.926823</td>\n",
       "      <td>0.782274</td>\n",
       "      <td>...</td>\n",
       "      <td>0.736282</td>\n",
       "      <td>0.880219</td>\n",
       "      <td>0.874527</td>\n",
       "      <td>0.846753</td>\n",
       "      <td>0.415972</td>\n",
       "      <td>0.252057</td>\n",
       "      <td>0.842195</td>\n",
       "      <td>0.893487</td>\n",
       "      <td>0.897321</td>\n",
       "      <td>35923872</td>\n",
       "    </tr>\n",
       "    <tr>\n",
       "      <th>7</th>\n",
       "      <td>2</td>\n",
       "      <td>wv_small_mobilenetv2_192</td>\n",
       "      <td>0.880149</td>\n",
       "      <td>0.882110</td>\n",
       "      <td>0.747555</td>\n",
       "      <td>0.703005</td>\n",
       "      <td>0.616293</td>\n",
       "      <td>0.933350</td>\n",
       "      <td>0.918047</td>\n",
       "      <td>0.772454</td>\n",
       "      <td>...</td>\n",
       "      <td>0.721922</td>\n",
       "      <td>0.873840</td>\n",
       "      <td>0.866930</td>\n",
       "      <td>0.840545</td>\n",
       "      <td>0.460517</td>\n",
       "      <td>0.251125</td>\n",
       "      <td>0.811080</td>\n",
       "      <td>0.888577</td>\n",
       "      <td>0.892142</td>\n",
       "      <td>26393728</td>\n",
       "    </tr>\n",
       "    <tr>\n",
       "      <th>8</th>\n",
       "      <td>4</td>\n",
       "      <td>wv_small_mobilenetv2_160</td>\n",
       "      <td>0.870879</td>\n",
       "      <td>0.873050</td>\n",
       "      <td>0.738988</td>\n",
       "      <td>0.696431</td>\n",
       "      <td>0.601039</td>\n",
       "      <td>0.925558</td>\n",
       "      <td>0.905431</td>\n",
       "      <td>0.763864</td>\n",
       "      <td>...</td>\n",
       "      <td>0.718312</td>\n",
       "      <td>0.862390</td>\n",
       "      <td>0.856707</td>\n",
       "      <td>0.825646</td>\n",
       "      <td>0.465732</td>\n",
       "      <td>0.333153</td>\n",
       "      <td>0.805501</td>\n",
       "      <td>0.874353</td>\n",
       "      <td>0.884366</td>\n",
       "      <td>18329760</td>\n",
       "    </tr>\n",
       "    <tr>\n",
       "      <th>9</th>\n",
       "      <td>6</td>\n",
       "      <td>wv_small_mobilenetv2_128</td>\n",
       "      <td>0.854462</td>\n",
       "      <td>0.862359</td>\n",
       "      <td>0.724107</td>\n",
       "      <td>0.667302</td>\n",
       "      <td>0.572181</td>\n",
       "      <td>0.912729</td>\n",
       "      <td>0.886961</td>\n",
       "      <td>0.738253</td>\n",
       "      <td>...</td>\n",
       "      <td>0.686536</td>\n",
       "      <td>0.841410</td>\n",
       "      <td>0.834790</td>\n",
       "      <td>0.815793</td>\n",
       "      <td>0.394734</td>\n",
       "      <td>0.204661</td>\n",
       "      <td>0.783697</td>\n",
       "      <td>0.862792</td>\n",
       "      <td>0.871149</td>\n",
       "      <td>11731968</td>\n",
       "    </tr>\n",
       "    <tr>\n",
       "      <th>10</th>\n",
       "      <td>8</td>\n",
       "      <td>wv_small_mobilenetv2_96</td>\n",
       "      <td>0.837755</td>\n",
       "      <td>0.843373</td>\n",
       "      <td>0.708710</td>\n",
       "      <td>0.649662</td>\n",
       "      <td>0.546301</td>\n",
       "      <td>0.899364</td>\n",
       "      <td>0.864805</td>\n",
       "      <td>0.724086</td>\n",
       "      <td>...</td>\n",
       "      <td>0.674607</td>\n",
       "      <td>0.826801</td>\n",
       "      <td>0.816575</td>\n",
       "      <td>0.786366</td>\n",
       "      <td>0.428200</td>\n",
       "      <td>0.327354</td>\n",
       "      <td>0.758086</td>\n",
       "      <td>0.851381</td>\n",
       "      <td>0.855960</td>\n",
       "      <td>6600352</td>\n",
       "    </tr>\n",
       "  </tbody>\n",
       "</table>\n",
       "<p>11 rows × 23 columns</p>\n",
       "</div>"
      ],
      "text/plain": [
       "    Unnamed: 0_x                      model  wv_test_score  vww_test_score  \\\n",
       "0              0   wv_small_mobilenetv2_0.1       0.882980        0.878259   \n",
       "1              1  wv_small_mobilenetv2_0.25       0.886529        0.885320   \n",
       "2              2  wv_small_mobilenetv2_0.35       0.896513        0.896060   \n",
       "3              3   wv_small_mobilenetv2_0.5       0.897722        0.901220   \n",
       "4              4   wv_small_mobilenetv2_1.0       0.904021        0.908602   \n",
       "5              5   wv_small_mobilenetv2_1.5       0.908018        0.911614   \n",
       "6              0   wv_small_mobilenetv2_224       0.886256        0.884456   \n",
       "7              2   wv_small_mobilenetv2_192       0.880149        0.882110   \n",
       "8              4   wv_small_mobilenetv2_160       0.870879        0.873050   \n",
       "9              6   wv_small_mobilenetv2_128       0.854462        0.862359   \n",
       "10             8    wv_small_mobilenetv2_96       0.837755        0.843373   \n",
       "\n",
       "    distance-near  distance-mid  distance-far  miap-female  miap-male  \\\n",
       "0        0.746239      0.704632      0.616531     0.931714   0.920124   \n",
       "1        0.750479      0.708523      0.623482     0.940007   0.927571   \n",
       "2        0.760727      0.724374      0.639738     0.947140   0.935738   \n",
       "3        0.764619      0.729172      0.648773     0.949148   0.938513   \n",
       "4        0.771914      0.739510      0.660799     0.959689   0.946302   \n",
       "5        0.776859      0.747043      0.670924     0.962689   0.953902   \n",
       "6        0.752811      0.710045      0.629124     0.937129   0.926823   \n",
       "7        0.747555      0.703005      0.616293     0.933350   0.918047   \n",
       "8        0.738988      0.696431      0.601039     0.925558   0.905431   \n",
       "9        0.724107      0.667302      0.572181     0.912729   0.886961   \n",
       "10       0.708710      0.649662      0.546301     0.899364   0.864805   \n",
       "\n",
       "    miap-unknown-gender  ...  miap-unknown-age  lighting-dark  \\\n",
       "0              0.771107  ...          0.722046       0.869813   \n",
       "1              0.781281  ...          0.736045       0.883176   \n",
       "2              0.796178  ...          0.749258       0.889526   \n",
       "3              0.794951  ...          0.746258       0.892190   \n",
       "4              0.805028  ...          0.755436       0.898148   \n",
       "5              0.811407  ...          0.762260       0.903298   \n",
       "6              0.782274  ...          0.736282       0.880219   \n",
       "7              0.772454  ...          0.721922       0.873840   \n",
       "8              0.763864  ...          0.718312       0.862390   \n",
       "9              0.738253  ...          0.686536       0.841410   \n",
       "10             0.724086  ...          0.674607       0.826801   \n",
       "\n",
       "    lighting-normal_light  lighting-bright     hands      feet  \\\n",
       "0                0.872199         0.849047  0.451978  0.334645   \n",
       "1                0.874035         0.848383  0.436412  0.294801   \n",
       "2                0.887227         0.857030  0.467994  0.448797   \n",
       "3                0.888509         0.859403  0.428156  0.337393   \n",
       "4                0.896408         0.865272  0.414826  0.377142   \n",
       "5                0.900827         0.871726  0.443145  0.450742   \n",
       "6                0.874527         0.846753  0.415972  0.252057   \n",
       "7                0.866930         0.840545  0.460517  0.251125   \n",
       "8                0.856707         0.825646  0.465732  0.333153   \n",
       "9                0.834790         0.815793  0.394734  0.204661   \n",
       "10               0.816575         0.786366  0.428200  0.327354   \n",
       "\n",
       "    depictions_persons  depictions_non_persons  non_person_no_depictions  \\\n",
       "0             0.816389                0.890970                  0.894372   \n",
       "1             0.831509                0.897695                  0.897395   \n",
       "2             0.833199                0.903516                  0.906074   \n",
       "3             0.839227                0.903873                  0.907408   \n",
       "4             0.844626                0.912944                  0.912642   \n",
       "5             0.855220                0.916249                  0.916086   \n",
       "6             0.842195                0.893487                  0.897321   \n",
       "7             0.811080                0.888577                  0.892142   \n",
       "8             0.805501                0.874353                  0.884366   \n",
       "9             0.783697                0.862792                  0.871149   \n",
       "10            0.758086                0.851381                  0.855960   \n",
       "\n",
       "         macs  \n",
       "0    25382208  \n",
       "1    35923872  \n",
       "2    58008368  \n",
       "3    95854400  \n",
       "4   299496832  \n",
       "5   670916544  \n",
       "6    35923872  \n",
       "7    26393728  \n",
       "8    18329760  \n",
       "9    11731968  \n",
       "10    6600352  \n",
       "\n",
       "[11 rows x 23 columns]"
      ]
     },
     "execution_count": 233,
     "metadata": {},
     "output_type": "execute_result"
    }
   ],
   "source": [
    "merged_df"
   ]
  },
  {
   "cell_type": "code",
   "execution_count": 238,
   "metadata": {},
   "outputs": [],
   "source": [
    "merged_df['model'] = merged_df['model'].str.replace('wv_small_mobilenetv2_', '')\n"
   ]
  },
  {
   "cell_type": "code",
   "execution_count": 241,
   "metadata": {},
   "outputs": [
    {
     "data": {
      "image/png": "[encoded data removed]",
      "text/plain": [
       "<Figure size 640x480 with 1 Axes>"
      ]
     },
     "metadata": {},
     "output_type": "display_data"
    }
   ],
   "source": [
    "import seaborn as sns\n",
    "target_metric = 'wv_test_score'\n",
    "x_metric = 'macs'\n",
    "\n",
    "import matplotlib.pyplot as plt\n",
    "\n",
    "sns.scatterplot(data=merged_df, x=x_metric, y=target_metric, hue='model')\n",
    "plt.xlabel(x_metric)\n",
    "plt.ylabel(target_metric)\n",
    "plt.xscale('log')\n",
    "plt.title('Scatterplot of ' + target_metric + ' vs ' + x_metric)\n",
    "plt.show()\n"
   ]
  },
  {
   "cell_type": "code",
   "execution_count": 46,
   "metadata": {},
   "outputs": [
    {
     "data": {
      "text/plain": [
       "(0.6, 0.8)"
      ]
     },
     "execution_count": 46,
     "metadata": {},
     "output_type": "execute_result"
    },
    {
     "data": {
      "image/png": "[encoded data removed]",
      "text/plain": [
       "<Figure size 640x480 with 1 Axes>"
      ]
     },
     "metadata": {},
     "output_type": "display_data"
    }
   ],
   "source": [
    "g = sns.barplot(\n",
    "    data=model_size.melt(id_vars = [\"model\"], value_vars=[\"distance-near\", \"distance-mid\", \"distance-far\"]),\n",
    "    y=\"value\", x=\"model\", hue=\"variable\", errorbar=None\n",
    ")\n",
    "plt.legend(loc='lower right')\n",
    "plt.ylim(0.6, 0.8)"
   ]
  },
  {
   "cell_type": "code",
   "execution_count": 52,
   "metadata": {},
   "outputs": [
    {
     "data": {
      "text/plain": [
       "(0.85, 0.95)"
      ]
     },
     "execution_count": 52,
     "metadata": {},
     "output_type": "execute_result"
    },
    {
     "data": {
      "image/png": "[encoded data removed]",
      "text/plain": [
       "<Figure size 640x480 with 1 Axes>"
      ]
     },
     "metadata": {},
     "output_type": "display_data"
    }
   ],
   "source": [
    "g = sns.barplot(\n",
    "    data=model_size.melt(id_vars = [\"model\"], value_vars=[\"wv_test_score\", \"vww_test_score\"]),\n",
    "    y=\"value\", x=\"model\", hue=\"variable\", errorbar=None\n",
    ")\n",
    "plt.legend(loc='lower right')\n",
    "plt.ylim(0.85, .95)"
   ]
  },
  {
   "cell_type": "code",
   "execution_count": 23,
   "metadata": {},
   "outputs": [
    {
     "data": {
      "text/plain": [
       "(0.75, 1.0)"
      ]
     },
     "execution_count": 23,
     "metadata": {},
     "output_type": "execute_result"
    },
    {
     "data": {
      "image/png": "[encoded data removed]",
      "text/plain": [
       "<Figure size 640x480 with 1 Axes>"
      ]
     },
     "metadata": {},
     "output_type": "display_data"
    }
   ],
   "source": [
    "g = sns.barplot(\n",
    "    data=model_size.melt(id_vars = [\"model\"], value_vars=[\"miap-female\", \"miap-male\", \"miap-unknown-gender\"]),\n",
    "    y=\"value\", x=\"model\", hue=\"variable\", errorbar=None\n",
    ")\n",
    "plt.legend(loc='lower right')\n",
    "plt.ylim(0.75, 1.0)"
   ]
  },
  {
   "cell_type": "code",
   "execution_count": 49,
   "metadata": {},
   "outputs": [
    {
     "data": {
      "text/plain": [
       "(0.5, 0.8)"
      ]
     },
     "execution_count": 49,
     "metadata": {},
     "output_type": "execute_result"
    },
    {
     "data": {
      "image/png": "[encoded data removed]",
      "text/plain": [
       "<Figure size 640x480 with 1 Axes>"
      ]
     },
     "metadata": {},
     "output_type": "display_data"
    }
   ],
   "source": [
    "g = sns.barplot(\n",
    "    data=image_size.melt(id_vars = [\"model\"], value_vars=[\"distance-near\", \"distance-mid\", \"distance-far\"]),\n",
    "    y=\"value\", x=\"model\", hue=\"variable\", errorbar=None\n",
    ")\n",
    "plt.legend(loc='lower left')\n",
    "plt.ylim(0.5, 0.8)"
   ]
  },
  {
   "cell_type": "code",
   "execution_count": 119,
   "metadata": {},
   "outputs": [
    {
     "data": {
      "text/plain": [
       "(0.7, 1.0)"
      ]
     },
     "execution_count": 119,
     "metadata": {},
     "output_type": "execute_result"
    },
    {
     "data": {
      "image/png": "[encoded data removed]",
      "text/plain": [
       "<Figure size 640x480 with 1 Axes>"
      ]
     },
     "metadata": {},
     "output_type": "display_data"
    }
   ],
   "source": [
    "g = sns.barplot(\n",
    "    data=image_size.melt(id_vars = [\"model\"], value_vars=[\"miap-female\", \"miap-male\", \"miap-unknown-gender\"]),\n",
    "    y=\"value\", x=\"model\", hue=\"variable\", errorbar=None\n",
    ")\n",
    "plt.legend(loc='lower right')\n",
    "plt.ylim(0.7, 1.0)"
   ]
  },
  {
   "cell_type": "code",
   "execution_count": 55,
   "metadata": {},
   "outputs": [
    {
     "data": {
      "text/plain": [
       "(0.82, 0.9)"
      ]
     },
     "execution_count": 55,
     "metadata": {},
     "output_type": "execute_result"
    },
    {
     "data": {
      "image/png": "[encoded data removed]",
      "text/plain": [
       "<Figure size 640x480 with 1 Axes>"
      ]
     },
     "metadata": {},
     "output_type": "display_data"
    }
   ],
   "source": [
    "g = sns.barplot(\n",
    "    data=image_size.melt(id_vars = [\"model\"], value_vars=[\"wv_test_score\", \"vww_test_score\"]),\n",
    "    y=\"value\", x=\"model\", hue=\"variable\", errorbar=None\n",
    ")\n",
    "plt.legend(loc='lower right')\n",
    "plt.ylim(0.82, .9)"
   ]
  },
  {
   "cell_type": "code",
   "execution_count": 105,
   "metadata": {},
   "outputs": [],
   "source": [
    "model_size = pd.read_csv('benchmark_results_model_size.csv')"
   ]
  },
  {
   "cell_type": "code",
   "execution_count": 106,
   "metadata": {},
   "outputs": [],
   "source": [
    "model_size['model'] = model_size['model'].str.replace('wv_small_mobilenetv2_', '')"
   ]
  },
  {
   "cell_type": "code",
   "execution_count": 107,
   "metadata": {},
   "outputs": [],
   "source": [
    "categories = list(model_size.columns[2:-1])\n",
    "categories.remove(\"hands\")\n",
    "categories.remove(\"feet\")"
   ]
  },
  {
   "cell_type": "code",
   "execution_count": 112,
   "metadata": {},
   "outputs": [],
   "source": [
    "model_size[categories]=(model_size[categories]-model_size[categories].mean())/model_size[categories].std()"
   ]
  },
  {
   "cell_type": "code",
   "execution_count": 113,
   "metadata": {},
   "outputs": [
    {
     "data": {
      "application/vnd.plotly.v1+json": {
       "config": {
        "plotlyServerURL": "https://plot.ly"
       },
       "data": [
        {
         "name": "0.1",
         "r": [
          -1.337462244474892,
          -1.4218922387923074,
          -1.3077539850612572,
          -1.2501912037933074,
          -1.2735734844840998,
          -1.4278529301062564,
          -1.3801740406004772,
          -1.488913190829786,
          -1.010781180305253,
          -1.3863057336407811,
          -0.11442899854571892,
          -1.611832637798604,
          -1.6520612691825647,
          -1.240347429929606,
          -1.0344944327770271,
          -1.5447943893894795,
          -1.411855006743353
         ],
         "theta": [
          "wv_test_score",
          "vww_test_score",
          "distance-near",
          "distance-mid",
          "distance-far",
          "miap-female",
          "miap-male",
          "miap-unknown-gender",
          "miap-young",
          "miap-middle",
          "miap-old",
          "miap-unknown-age",
          "lighting-dark",
          "lighting-normal_light",
          "lighting-bright",
          "depictions_persons",
          "depictions_non_persons"
         ],
         "type": "scatterpolar"
        },
        {
         "name": "0.25",
         "r": [
          -0.9718801129552638,
          -0.8817195772331138,
          -0.9515987181835525,
          -1.0175202153211538,
          -0.943800652482928,
          -0.7181266961079549,
          -0.7720138758237189,
          -0.8071280400226546,
          -1.1260446602536167,
          -0.8141153666580728,
          -0.1255424818632013,
          -0.6380102018436755,
          -0.5225817499976386,
          -1.0814588829443759,
          -1.1073041315859156,
          -0.39448754888916127,
          -0.6946210771566006
         ],
         "theta": [
          "wv_test_score",
          "vww_test_score",
          "distance-near",
          "distance-mid",
          "distance-far",
          "miap-female",
          "miap-male",
          "miap-unknown-gender",
          "miap-young",
          "miap-middle",
          "miap-old",
          "miap-unknown-age",
          "lighting-dark",
          "lighting-normal_light",
          "lighting-bright",
          "depictions_persons",
          "depictions_non_persons"
         ],
         "type": "scatterpolar"
        },
        {
         "name": "0.35",
         "r": [
          0.056578162494591876,
          -0.06012484501306208,
          -0.09063130893412999,
          -0.06981573714780871,
          -0.17254329970835888,
          -0.10767336520418948,
          -0.1050912660492542,
          0.19118403301407974,
          -0.14756397318355627,
          -0.11326359973053407,
          -0.6123011528235175,
          0.2811153810558308,
          0.014171962047881776,
          0.05997525135832328,
          -0.15868623550346886,
          -0.26598434218681744,
          -0.07380420905003303
         ],
         "theta": [
          "wv_test_score",
          "vww_test_score",
          "distance-near",
          "distance-mid",
          "distance-far",
          "miap-female",
          "miap-male",
          "miap-unknown-gender",
          "miap-young",
          "miap-middle",
          "miap-old",
          "miap-unknown-age",
          "lighting-dark",
          "lighting-normal_light",
          "lighting-bright",
          "depictions_persons",
          "depictions_non_persons"
         ],
         "type": "scatterpolar"
        },
        {
         "name": "0.5",
         "r": [
          0.18111999542461105,
          0.3346174450573289,
          0.23626260393373208,
          0.21701499783866476,
          0.256141953336064,
          0.06420183034218532,
          0.12153588130987868,
          0.10890409191900768,
          0.021735009433629045,
          0.17394497798128244,
          -1.2398135968294721,
          0.0724145547181851,
          0.23934731179810498,
          0.17083404223160656,
          0.1016013619125424,
          0.19263334516645922,
          -0.03572037048459311
         ],
         "theta": [
          "wv_test_score",
          "vww_test_score",
          "distance-near",
          "distance-mid",
          "distance-far",
          "miap-female",
          "miap-male",
          "miap-unknown-gender",
          "miap-young",
          "miap-middle",
          "miap-old",
          "miap-unknown-age",
          "lighting-dark",
          "lighting-normal_light",
          "lighting-bright",
          "depictions_persons",
          "depictions_non_persons"
         ],
         "type": "scatterpolar"
        },
        {
         "name": "1.0",
         "r": [
          0.8299296463378213,
          0.8993493208423932,
          0.8491394412556206,
          0.8350684775115106,
          0.8267085264898462,
          0.9663385945127001,
          0.7575497819437113,
          0.7842524306062733,
          0.8780549104508991,
          0.866100327970402,
          0.3862392669443117,
          0.7108091429323802,
          0.7428973661214266,
          0.854358025338405,
          0.7454286656925687,
          0.6033345039101148,
          0.9317696266866056
         ],
         "theta": [
          "wv_test_score",
          "vww_test_score",
          "distance-near",
          "distance-mid",
          "distance-far",
          "miap-female",
          "miap-male",
          "miap-unknown-gender",
          "miap-young",
          "miap-middle",
          "miap-old",
          "miap-unknown-age",
          "lighting-dark",
          "lighting-normal_light",
          "lighting-bright",
          "depictions_persons",
          "depictions_non_persons"
         ],
         "type": "scatterpolar"
        },
        {
         "name": "1.5",
         "r": [
          1.241714553173132,
          1.129769895138761,
          1.264581966989587,
          1.2854436809120944,
          1.3070669568494768,
          1.2231125665635152,
          1.37819351921986,
          1.21170067531308,
          1.3845998938578983,
          1.273639394077704,
          1.705846963117598,
          1.1855037609358836,
          1.1782263792127896,
          1.2366389939456464,
          1.4534547722613005,
          1.409298431388884,
          1.2842310367479741
         ],
         "theta": [
          "wv_test_score",
          "vww_test_score",
          "distance-near",
          "distance-mid",
          "distance-far",
          "miap-female",
          "miap-male",
          "miap-unknown-gender",
          "miap-young",
          "miap-middle",
          "miap-old",
          "miap-unknown-age",
          "lighting-dark",
          "lighting-normal_light",
          "lighting-bright",
          "depictions_persons",
          "depictions_non_persons"
         ],
         "type": "scatterpolar"
        }
       ],
       "layout": {
        "polar": {
         "radialaxis": {
          "range": [
           -1.8520612691825646,
           1.705846963117598
          ],
          "visible": true
         }
        },
        "showlegend": false,
        "template": {
         "data": {
          "bar": [
           {
            "error_x": {
             "color": "#2a3f5f"
            },
            "error_y": {
             "color": "#2a3f5f"
            },
            "marker": {
             "line": {
              "color": "#E5ECF6",
              "width": 0.5
             },
             "pattern": {
              "fillmode": "overlay",
              "size": 10,
              "solidity": 0.2
             }
            },
            "type": "bar"
           }
          ],
          "barpolar": [
           {
            "marker": {
             "line": {
              "color": "#E5ECF6",
              "width": 0.5
             },
             "pattern": {
              "fillmode": "overlay",
              "size": 10,
              "solidity": 0.2
             }
            },
            "type": "barpolar"
           }
          ],
          "carpet": [
           {
            "aaxis": {
             "endlinecolor": "#2a3f5f",
             "gridcolor": "white",
             "linecolor": "white",
             "minorgridcolor": "white",
             "startlinecolor": "#2a3f5f"
            },
            "baxis": {
             "endlinecolor": "#2a3f5f",
             "gridcolor": "white",
             "linecolor": "white",
             "minorgridcolor": "white",
             "startlinecolor": "#2a3f5f"
            },
            "type": "carpet"
           }
          ],
          "choropleth": [
           {
            "colorbar": {
             "outlinewidth": 0,
             "ticks": ""
            },
            "type": "choropleth"
           }
          ],
          "contour": [
           {
            "colorbar": {
             "outlinewidth": 0,
             "ticks": ""
            },
            "colorscale": [
             [
              0,
              "#0d0887"
             ],
             [
              0.1111111111111111,
              "#46039f"
             ],
             [
              0.2222222222222222,
              "#7201a8"
             ],
             [
              0.3333333333333333,
              "#9c179e"
             ],
             [
              0.4444444444444444,
              "#bd3786"
             ],
             [
              0.5555555555555556,
              "#d8576b"
             ],
             [
              0.6666666666666666,
              "#ed7953"
             ],
             [
              0.7777777777777778,
              "#fb9f3a"
             ],
             [
              0.8888888888888888,
              "#fdca26"
             ],
             [
              1,
              "#f0f921"
             ]
            ],
            "type": "contour"
           }
          ],
          "contourcarpet": [
           {
            "colorbar": {
             "outlinewidth": 0,
             "ticks": ""
            },
            "type": "contourcarpet"
           }
          ],
          "heatmap": [
           {
            "colorbar": {
             "outlinewidth": 0,
             "ticks": ""
            },
            "colorscale": [
             [
              0,
              "#0d0887"
             ],
             [
              0.1111111111111111,
              "#46039f"
             ],
             [
              0.2222222222222222,
              "#7201a8"
             ],
             [
              0.3333333333333333,
              "#9c179e"
             ],
             [
              0.4444444444444444,
              "#bd3786"
             ],
             [
              0.5555555555555556,
              "#d8576b"
             ],
             [
              0.6666666666666666,
              "#ed7953"
             ],
             [
              0.7777777777777778,
              "#fb9f3a"
             ],
             [
              0.8888888888888888,
              "#fdca26"
             ],
             [
              1,
              "#f0f921"
             ]
            ],
            "type": "heatmap"
           }
          ],
          "heatmapgl": [
           {
            "colorbar": {
             "outlinewidth": 0,
             "ticks": ""
            },
            "colorscale": [
             [
              0,
              "#0d0887"
             ],
             [
              0.1111111111111111,
              "#46039f"
             ],
             [
              0.2222222222222222,
              "#7201a8"
             ],
             [
              0.3333333333333333,
              "#9c179e"
             ],
             [
              0.4444444444444444,
              "#bd3786"
             ],
             [
              0.5555555555555556,
              "#d8576b"
             ],
             [
              0.6666666666666666,
              "#ed7953"
             ],
             [
              0.7777777777777778,
              "#fb9f3a"
             ],
             [
              0.8888888888888888,
              "#fdca26"
             ],
             [
              1,
              "#f0f921"
             ]
            ],
            "type": "heatmapgl"
           }
          ],
          "histogram": [
           {
            "marker": {
             "pattern": {
              "fillmode": "overlay",
              "size": 10,
              "solidity": 0.2
             }
            },
            "type": "histogram"
           }
          ],
          "histogram2d": [
           {
            "colorbar": {
             "outlinewidth": 0,
             "ticks": ""
            },
            "colorscale": [
             [
              0,
              "#0d0887"
             ],
             [
              0.1111111111111111,
              "#46039f"
             ],
             [
              0.2222222222222222,
              "#7201a8"
             ],
             [
              0.3333333333333333,
              "#9c179e"
             ],
             [
              0.4444444444444444,
              "#bd3786"
             ],
             [
              0.5555555555555556,
              "#d8576b"
             ],
             [
              0.6666666666666666,
              "#ed7953"
             ],
             [
              0.7777777777777778,
              "#fb9f3a"
             ],
             [
              0.8888888888888888,
              "#fdca26"
             ],
             [
              1,
              "#f0f921"
             ]
            ],
            "type": "histogram2d"
           }
          ],
          "histogram2dcontour": [
           {
            "colorbar": {
             "outlinewidth": 0,
             "ticks": ""
            },
            "colorscale": [
             [
              0,
              "#0d0887"
             ],
             [
              0.1111111111111111,
              "#46039f"
             ],
             [
              0.2222222222222222,
              "#7201a8"
             ],
             [
              0.3333333333333333,
              "#9c179e"
             ],
             [
              0.4444444444444444,
              "#bd3786"
             ],
             [
              0.5555555555555556,
              "#d8576b"
             ],
             [
              0.6666666666666666,
              "#ed7953"
             ],
             [
              0.7777777777777778,
              "#fb9f3a"
             ],
             [
              0.8888888888888888,
              "#fdca26"
             ],
             [
              1,
              "#f0f921"
             ]
            ],
            "type": "histogram2dcontour"
           }
          ],
          "mesh3d": [
           {
            "colorbar": {
             "outlinewidth": 0,
             "ticks": ""
            },
            "type": "mesh3d"
           }
          ],
          "parcoords": [
           {
            "line": {
             "colorbar": {
              "outlinewidth": 0,
              "ticks": ""
             }
            },
            "type": "parcoords"
           }
          ],
          "pie": [
           {
            "automargin": true,
            "type": "pie"
           }
          ],
          "scatter": [
           {
            "fillpattern": {
             "fillmode": "overlay",
             "size": 10,
             "solidity": 0.2
            },
            "type": "scatter"
           }
          ],
          "scatter3d": [
           {
            "line": {
             "colorbar": {
              "outlinewidth": 0,
              "ticks": ""
             }
            },
            "marker": {
             "colorbar": {
              "outlinewidth": 0,
              "ticks": ""
             }
            },
            "type": "scatter3d"
           }
          ],
          "scattercarpet": [
           {
            "marker": {
             "colorbar": {
              "outlinewidth": 0,
              "ticks": ""
             }
            },
            "type": "scattercarpet"
           }
          ],
          "scattergeo": [
           {
            "marker": {
             "colorbar": {
              "outlinewidth": 0,
              "ticks": ""
             }
            },
            "type": "scattergeo"
           }
          ],
          "scattergl": [
           {
            "marker": {
             "colorbar": {
              "outlinewidth": 0,
              "ticks": ""
             }
            },
            "type": "scattergl"
           }
          ],
          "scattermapbox": [
           {
            "marker": {
             "colorbar": {
              "outlinewidth": 0,
              "ticks": ""
             }
            },
            "type": "scattermapbox"
           }
          ],
          "scatterpolar": [
           {
            "marker": {
             "colorbar": {
              "outlinewidth": 0,
              "ticks": ""
             }
            },
            "type": "scatterpolar"
           }
          ],
          "scatterpolargl": [
           {
            "marker": {
             "colorbar": {
              "outlinewidth": 0,
              "ticks": ""
             }
            },
            "type": "scatterpolargl"
           }
          ],
          "scatterternary": [
           {
            "marker": {
             "colorbar": {
              "outlinewidth": 0,
              "ticks": ""
             }
            },
            "type": "scatterternary"
           }
          ],
          "surface": [
           {
            "colorbar": {
             "outlinewidth": 0,
             "ticks": ""
            },
            "colorscale": [
             [
              0,
              "#0d0887"
             ],
             [
              0.1111111111111111,
              "#46039f"
             ],
             [
              0.2222222222222222,
              "#7201a8"
             ],
             [
              0.3333333333333333,
              "#9c179e"
             ],
             [
              0.4444444444444444,
              "#bd3786"
             ],
             [
              0.5555555555555556,
              "#d8576b"
             ],
             [
              0.6666666666666666,
              "#ed7953"
             ],
             [
              0.7777777777777778,
              "#fb9f3a"
             ],
             [
              0.8888888888888888,
              "#fdca26"
             ],
             [
              1,
              "#f0f921"
             ]
            ],
            "type": "surface"
           }
          ],
          "table": [
           {
            "cells": {
             "fill": {
              "color": "#EBF0F8"
             },
             "line": {
              "color": "white"
             }
            },
            "header": {
             "fill": {
              "color": "#C8D4E3"
             },
             "line": {
              "color": "white"
             }
            },
            "type": "table"
           }
          ]
         },
         "layout": {
          "annotationdefaults": {
           "arrowcolor": "#2a3f5f",
           "arrowhead": 0,
           "arrowwidth": 1
          },
          "autotypenumbers": "strict",
          "coloraxis": {
           "colorbar": {
            "outlinewidth": 0,
            "ticks": ""
           }
          },
          "colorscale": {
           "diverging": [
            [
             0,
             "#8e0152"
            ],
            [
             0.1,
             "#c51b7d"
            ],
            [
             0.2,
             "#de77ae"
            ],
            [
             0.3,
             "#f1b6da"
            ],
            [
             0.4,
             "#fde0ef"
            ],
            [
             0.5,
             "#f7f7f7"
            ],
            [
             0.6,
             "#e6f5d0"
            ],
            [
             0.7,
             "#b8e186"
            ],
            [
             0.8,
             "#7fbc41"
            ],
            [
             0.9,
             "#4d9221"
            ],
            [
             1,
             "#276419"
            ]
           ],
           "sequential": [
            [
             0,
             "#0d0887"
            ],
            [
             0.1111111111111111,
             "#46039f"
            ],
            [
             0.2222222222222222,
             "#7201a8"
            ],
            [
             0.3333333333333333,
             "#9c179e"
            ],
            [
             0.4444444444444444,
             "#bd3786"
            ],
            [
             0.5555555555555556,
             "#d8576b"
            ],
            [
             0.6666666666666666,
             "#ed7953"
            ],
            [
             0.7777777777777778,
             "#fb9f3a"
            ],
            [
             0.8888888888888888,
             "#fdca26"
            ],
            [
             1,
             "#f0f921"
            ]
           ],
           "sequentialminus": [
            [
             0,
             "#0d0887"
            ],
            [
             0.1111111111111111,
             "#46039f"
            ],
            [
             0.2222222222222222,
             "#7201a8"
            ],
            [
             0.3333333333333333,
             "#9c179e"
            ],
            [
             0.4444444444444444,
             "#bd3786"
            ],
            [
             0.5555555555555556,
             "#d8576b"
            ],
            [
             0.6666666666666666,
             "#ed7953"
            ],
            [
             0.7777777777777778,
             "#fb9f3a"
            ],
            [
             0.8888888888888888,
             "#fdca26"
            ],
            [
             1,
             "#f0f921"
            ]
           ]
          },
          "colorway": [
           "#636efa",
           "#EF553B",
           "#00cc96",
           "#ab63fa",
           "#FFA15A",
           "#19d3f3",
           "#FF6692",
           "#B6E880",
           "#FF97FF",
           "#FECB52"
          ],
          "font": {
           "color": "#2a3f5f"
          },
          "geo": {
           "bgcolor": "white",
           "lakecolor": "white",
           "landcolor": "#E5ECF6",
           "showlakes": true,
           "showland": true,
           "subunitcolor": "white"
          },
          "hoverlabel": {
           "align": "left"
          },
          "hovermode": "closest",
          "mapbox": {
           "style": "light"
          },
          "paper_bgcolor": "white",
          "plot_bgcolor": "#E5ECF6",
          "polar": {
           "angularaxis": {
            "gridcolor": "white",
            "linecolor": "white",
            "ticks": ""
           },
           "bgcolor": "#E5ECF6",
           "radialaxis": {
            "gridcolor": "white",
            "linecolor": "white",
            "ticks": ""
           }
          },
          "scene": {
           "xaxis": {
            "backgroundcolor": "#E5ECF6",
            "gridcolor": "white",
            "gridwidth": 2,
            "linecolor": "white",
            "showbackground": true,
            "ticks": "",
            "zerolinecolor": "white"
           },
           "yaxis": {
            "backgroundcolor": "#E5ECF6",
            "gridcolor": "white",
            "gridwidth": 2,
            "linecolor": "white",
            "showbackground": true,
            "ticks": "",
            "zerolinecolor": "white"
           },
           "zaxis": {
            "backgroundcolor": "#E5ECF6",
            "gridcolor": "white",
            "gridwidth": 2,
            "linecolor": "white",
            "showbackground": true,
            "ticks": "",
            "zerolinecolor": "white"
           }
          },
          "shapedefaults": {
           "line": {
            "color": "#2a3f5f"
           }
          },
          "ternary": {
           "aaxis": {
            "gridcolor": "white",
            "linecolor": "white",
            "ticks": ""
           },
           "baxis": {
            "gridcolor": "white",
            "linecolor": "white",
            "ticks": ""
           },
           "bgcolor": "#E5ECF6",
           "caxis": {
            "gridcolor": "white",
            "linecolor": "white",
            "ticks": ""
           }
          },
          "title": {
           "x": 0.05
          },
          "xaxis": {
           "automargin": true,
           "gridcolor": "white",
           "linecolor": "white",
           "ticks": "",
           "title": {
            "standoff": 15
           },
           "zerolinecolor": "white",
           "zerolinewidth": 2
          },
          "yaxis": {
           "automargin": true,
           "gridcolor": "white",
           "linecolor": "white",
           "ticks": "",
           "title": {
            "standoff": 15
           },
           "zerolinecolor": "white",
           "zerolinewidth": 2
          }
         }
        }
       }
      },
      "text/html": [
       "<div>                            <div id=\"4a695f1f-453c-4f19-85fa-fe95bda0f1da\" class=\"plotly-graph-div\" style=\"height:525px; width:100%;\"></div>            <script type=\"text/javascript\">                require([\"plotly\"], function(Plotly) {                    window.PLOTLYENV=window.PLOTLYENV || {};                                    if (document.getElementById(\"4a695f1f-453c-4f19-85fa-fe95bda0f1da\")) {                    Plotly.newPlot(                        \"4a695f1f-453c-4f19-85fa-fe95bda0f1da\",                        [{\"name\":\"0.1\",\"r\":[-1.337462244474892,-1.4218922387923074,-1.3077539850612572,-1.2501912037933074,-1.2735734844840998,-1.4278529301062564,-1.3801740406004772,-1.488913190829786,-1.010781180305253,-1.3863057336407811,-0.11442899854571892,-1.611832637798604,-1.6520612691825647,-1.240347429929606,-1.0344944327770271,-1.5447943893894795,-1.411855006743353],\"theta\":[\"wv_test_score\",\"vww_test_score\",\"distance-near\",\"distance-mid\",\"distance-far\",\"miap-female\",\"miap-male\",\"miap-unknown-gender\",\"miap-young\",\"miap-middle\",\"miap-old\",\"miap-unknown-age\",\"lighting-dark\",\"lighting-normal_light\",\"lighting-bright\",\"depictions_persons\",\"depictions_non_persons\"],\"type\":\"scatterpolar\"},{\"name\":\"0.25\",\"r\":[-0.9718801129552638,-0.8817195772331138,-0.9515987181835525,-1.0175202153211538,-0.943800652482928,-0.7181266961079549,-0.7720138758237189,-0.8071280400226546,-1.1260446602536167,-0.8141153666580728,-0.1255424818632013,-0.6380102018436755,-0.5225817499976386,-1.0814588829443759,-1.1073041315859156,-0.39448754888916127,-0.6946210771566006],\"theta\":[\"wv_test_score\",\"vww_test_score\",\"distance-near\",\"distance-mid\",\"distance-far\",\"miap-female\",\"miap-male\",\"miap-unknown-gender\",\"miap-young\",\"miap-middle\",\"miap-old\",\"miap-unknown-age\",\"lighting-dark\",\"lighting-normal_light\",\"lighting-bright\",\"depictions_persons\",\"depictions_non_persons\"],\"type\":\"scatterpolar\"},{\"name\":\"0.35\",\"r\":[0.056578162494591876,-0.06012484501306208,-0.09063130893412999,-0.06981573714780871,-0.17254329970835888,-0.10767336520418948,-0.1050912660492542,0.19118403301407974,-0.14756397318355627,-0.11326359973053407,-0.6123011528235175,0.2811153810558308,0.014171962047881776,0.05997525135832328,-0.15868623550346886,-0.26598434218681744,-0.07380420905003303],\"theta\":[\"wv_test_score\",\"vww_test_score\",\"distance-near\",\"distance-mid\",\"distance-far\",\"miap-female\",\"miap-male\",\"miap-unknown-gender\",\"miap-young\",\"miap-middle\",\"miap-old\",\"miap-unknown-age\",\"lighting-dark\",\"lighting-normal_light\",\"lighting-bright\",\"depictions_persons\",\"depictions_non_persons\"],\"type\":\"scatterpolar\"},{\"name\":\"0.5\",\"r\":[0.18111999542461105,0.3346174450573289,0.23626260393373208,0.21701499783866476,0.256141953336064,0.06420183034218532,0.12153588130987868,0.10890409191900768,0.021735009433629045,0.17394497798128244,-1.2398135968294721,0.0724145547181851,0.23934731179810498,0.17083404223160656,0.1016013619125424,0.19263334516645922,-0.03572037048459311],\"theta\":[\"wv_test_score\",\"vww_test_score\",\"distance-near\",\"distance-mid\",\"distance-far\",\"miap-female\",\"miap-male\",\"miap-unknown-gender\",\"miap-young\",\"miap-middle\",\"miap-old\",\"miap-unknown-age\",\"lighting-dark\",\"lighting-normal_light\",\"lighting-bright\",\"depictions_persons\",\"depictions_non_persons\"],\"type\":\"scatterpolar\"},{\"name\":\"1.0\",\"r\":[0.8299296463378213,0.8993493208423932,0.8491394412556206,0.8350684775115106,0.8267085264898462,0.9663385945127001,0.7575497819437113,0.7842524306062733,0.8780549104508991,0.866100327970402,0.3862392669443117,0.7108091429323802,0.7428973661214266,0.854358025338405,0.7454286656925687,0.6033345039101148,0.9317696266866056],\"theta\":[\"wv_test_score\",\"vww_test_score\",\"distance-near\",\"distance-mid\",\"distance-far\",\"miap-female\",\"miap-male\",\"miap-unknown-gender\",\"miap-young\",\"miap-middle\",\"miap-old\",\"miap-unknown-age\",\"lighting-dark\",\"lighting-normal_light\",\"lighting-bright\",\"depictions_persons\",\"depictions_non_persons\"],\"type\":\"scatterpolar\"},{\"name\":\"1.5\",\"r\":[1.241714553173132,1.129769895138761,1.264581966989587,1.2854436809120944,1.3070669568494768,1.2231125665635152,1.37819351921986,1.21170067531308,1.3845998938578983,1.273639394077704,1.705846963117598,1.1855037609358836,1.1782263792127896,1.2366389939456464,1.4534547722613005,1.409298431388884,1.2842310367479741],\"theta\":[\"wv_test_score\",\"vww_test_score\",\"distance-near\",\"distance-mid\",\"distance-far\",\"miap-female\",\"miap-male\",\"miap-unknown-gender\",\"miap-young\",\"miap-middle\",\"miap-old\",\"miap-unknown-age\",\"lighting-dark\",\"lighting-normal_light\",\"lighting-bright\",\"depictions_persons\",\"depictions_non_persons\"],\"type\":\"scatterpolar\"}],                        {\"template\":{\"data\":{\"histogram2dcontour\":[{\"type\":\"histogram2dcontour\",\"colorbar\":{\"outlinewidth\":0,\"ticks\":\"\"},\"colorscale\":[[0.0,\"#0d0887\"],[0.1111111111111111,\"#46039f\"],[0.2222222222222222,\"#7201a8\"],[0.3333333333333333,\"#9c179e\"],[0.4444444444444444,\"#bd3786\"],[0.5555555555555556,\"#d8576b\"],[0.6666666666666666,\"#ed7953\"],[0.7777777777777778,\"#fb9f3a\"],[0.8888888888888888,\"#fdca26\"],[1.0,\"#f0f921\"]]}],\"choropleth\":[{\"type\":\"choropleth\",\"colorbar\":{\"outlinewidth\":0,\"ticks\":\"\"}}],\"histogram2d\":[{\"type\":\"histogram2d\",\"colorbar\":{\"outlinewidth\":0,\"ticks\":\"\"},\"colorscale\":[[0.0,\"#0d0887\"],[0.1111111111111111,\"#46039f\"],[0.2222222222222222,\"#7201a8\"],[0.3333333333333333,\"#9c179e\"],[0.4444444444444444,\"#bd3786\"],[0.5555555555555556,\"#d8576b\"],[0.6666666666666666,\"#ed7953\"],[0.7777777777777778,\"#fb9f3a\"],[0.8888888888888888,\"#fdca26\"],[1.0,\"#f0f921\"]]}],\"heatmap\":[{\"type\":\"heatmap\",\"colorbar\":{\"outlinewidth\":0,\"ticks\":\"\"},\"colorscale\":[[0.0,\"#0d0887\"],[0.1111111111111111,\"#46039f\"],[0.2222222222222222,\"#7201a8\"],[0.3333333333333333,\"#9c179e\"],[0.4444444444444444,\"#bd3786\"],[0.5555555555555556,\"#d8576b\"],[0.6666666666666666,\"#ed7953\"],[0.7777777777777778,\"#fb9f3a\"],[0.8888888888888888,\"#fdca26\"],[1.0,\"#f0f921\"]]}],\"heatmapgl\":[{\"type\":\"heatmapgl\",\"colorbar\":{\"outlinewidth\":0,\"ticks\":\"\"},\"colorscale\":[[0.0,\"#0d0887\"],[0.1111111111111111,\"#46039f\"],[0.2222222222222222,\"#7201a8\"],[0.3333333333333333,\"#9c179e\"],[0.4444444444444444,\"#bd3786\"],[0.5555555555555556,\"#d8576b\"],[0.6666666666666666,\"#ed7953\"],[0.7777777777777778,\"#fb9f3a\"],[0.8888888888888888,\"#fdca26\"],[1.0,\"#f0f921\"]]}],\"contourcarpet\":[{\"type\":\"contourcarpet\",\"colorbar\":{\"outlinewidth\":0,\"ticks\":\"\"}}],\"contour\":[{\"type\":\"contour\",\"colorbar\":{\"outlinewidth\":0,\"ticks\":\"\"},\"colorscale\":[[0.0,\"#0d0887\"],[0.1111111111111111,\"#46039f\"],[0.2222222222222222,\"#7201a8\"],[0.3333333333333333,\"#9c179e\"],[0.4444444444444444,\"#bd3786\"],[0.5555555555555556,\"#d8576b\"],[0.6666666666666666,\"#ed7953\"],[0.7777777777777778,\"#fb9f3a\"],[0.8888888888888888,\"#fdca26\"],[1.0,\"#f0f921\"]]}],\"surface\":[{\"type\":\"surface\",\"colorbar\":{\"outlinewidth\":0,\"ticks\":\"\"},\"colorscale\":[[0.0,\"#0d0887\"],[0.1111111111111111,\"#46039f\"],[0.2222222222222222,\"#7201a8\"],[0.3333333333333333,\"#9c179e\"],[0.4444444444444444,\"#bd3786\"],[0.5555555555555556,\"#d8576b\"],[0.6666666666666666,\"#ed7953\"],[0.7777777777777778,\"#fb9f3a\"],[0.8888888888888888,\"#fdca26\"],[1.0,\"#f0f921\"]]}],\"mesh3d\":[{\"type\":\"mesh3d\",\"colorbar\":{\"outlinewidth\":0,\"ticks\":\"\"}}],\"scatter\":[{\"fillpattern\":{\"fillmode\":\"overlay\",\"size\":10,\"solidity\":0.2},\"type\":\"scatter\"}],\"parcoords\":[{\"type\":\"parcoords\",\"line\":{\"colorbar\":{\"outlinewidth\":0,\"ticks\":\"\"}}}],\"scatterpolargl\":[{\"type\":\"scatterpolargl\",\"marker\":{\"colorbar\":{\"outlinewidth\":0,\"ticks\":\"\"}}}],\"bar\":[{\"error_x\":{\"color\":\"#2a3f5f\"},\"error_y\":{\"color\":\"#2a3f5f\"},\"marker\":{\"line\":{\"color\":\"#E5ECF6\",\"width\":0.5},\"pattern\":{\"fillmode\":\"overlay\",\"size\":10,\"solidity\":0.2}},\"type\":\"bar\"}],\"scattergeo\":[{\"type\":\"scattergeo\",\"marker\":{\"colorbar\":{\"outlinewidth\":0,\"ticks\":\"\"}}}],\"scatterpolar\":[{\"type\":\"scatterpolar\",\"marker\":{\"colorbar\":{\"outlinewidth\":0,\"ticks\":\"\"}}}],\"histogram\":[{\"marker\":{\"pattern\":{\"fillmode\":\"overlay\",\"size\":10,\"solidity\":0.2}},\"type\":\"histogram\"}],\"scattergl\":[{\"type\":\"scattergl\",\"marker\":{\"colorbar\":{\"outlinewidth\":0,\"ticks\":\"\"}}}],\"scatter3d\":[{\"type\":\"scatter3d\",\"line\":{\"colorbar\":{\"outlinewidth\":0,\"ticks\":\"\"}},\"marker\":{\"colorbar\":{\"outlinewidth\":0,\"ticks\":\"\"}}}],\"scattermapbox\":[{\"type\":\"scattermapbox\",\"marker\":{\"colorbar\":{\"outlinewidth\":0,\"ticks\":\"\"}}}],\"scatterternary\":[{\"type\":\"scatterternary\",\"marker\":{\"colorbar\":{\"outlinewidth\":0,\"ticks\":\"\"}}}],\"scattercarpet\":[{\"type\":\"scattercarpet\",\"marker\":{\"colorbar\":{\"outlinewidth\":0,\"ticks\":\"\"}}}],\"carpet\":[{\"aaxis\":{\"endlinecolor\":\"#2a3f5f\",\"gridcolor\":\"white\",\"linecolor\":\"white\",\"minorgridcolor\":\"white\",\"startlinecolor\":\"#2a3f5f\"},\"baxis\":{\"endlinecolor\":\"#2a3f5f\",\"gridcolor\":\"white\",\"linecolor\":\"white\",\"minorgridcolor\":\"white\",\"startlinecolor\":\"#2a3f5f\"},\"type\":\"carpet\"}],\"table\":[{\"cells\":{\"fill\":{\"color\":\"#EBF0F8\"},\"line\":{\"color\":\"white\"}},\"header\":{\"fill\":{\"color\":\"#C8D4E3\"},\"line\":{\"color\":\"white\"}},\"type\":\"table\"}],\"barpolar\":[{\"marker\":{\"line\":{\"color\":\"#E5ECF6\",\"width\":0.5},\"pattern\":{\"fillmode\":\"overlay\",\"size\":10,\"solidity\":0.2}},\"type\":\"barpolar\"}],\"pie\":[{\"automargin\":true,\"type\":\"pie\"}]},\"layout\":{\"autotypenumbers\":\"strict\",\"colorway\":[\"#636efa\",\"#EF553B\",\"#00cc96\",\"#ab63fa\",\"#FFA15A\",\"#19d3f3\",\"#FF6692\",\"#B6E880\",\"#FF97FF\",\"#FECB52\"],\"font\":{\"color\":\"#2a3f5f\"},\"hovermode\":\"closest\",\"hoverlabel\":{\"align\":\"left\"},\"paper_bgcolor\":\"white\",\"plot_bgcolor\":\"#E5ECF6\",\"polar\":{\"bgcolor\":\"#E5ECF6\",\"angularaxis\":{\"gridcolor\":\"white\",\"linecolor\":\"white\",\"ticks\":\"\"},\"radialaxis\":{\"gridcolor\":\"white\",\"linecolor\":\"white\",\"ticks\":\"\"}},\"ternary\":{\"bgcolor\":\"#E5ECF6\",\"aaxis\":{\"gridcolor\":\"white\",\"linecolor\":\"white\",\"ticks\":\"\"},\"baxis\":{\"gridcolor\":\"white\",\"linecolor\":\"white\",\"ticks\":\"\"},\"caxis\":{\"gridcolor\":\"white\",\"linecolor\":\"white\",\"ticks\":\"\"}},\"coloraxis\":{\"colorbar\":{\"outlinewidth\":0,\"ticks\":\"\"}},\"colorscale\":{\"sequential\":[[0.0,\"#0d0887\"],[0.1111111111111111,\"#46039f\"],[0.2222222222222222,\"#7201a8\"],[0.3333333333333333,\"#9c179e\"],[0.4444444444444444,\"#bd3786\"],[0.5555555555555556,\"#d8576b\"],[0.6666666666666666,\"#ed7953\"],[0.7777777777777778,\"#fb9f3a\"],[0.8888888888888888,\"#fdca26\"],[1.0,\"#f0f921\"]],\"sequentialminus\":[[0.0,\"#0d0887\"],[0.1111111111111111,\"#46039f\"],[0.2222222222222222,\"#7201a8\"],[0.3333333333333333,\"#9c179e\"],[0.4444444444444444,\"#bd3786\"],[0.5555555555555556,\"#d8576b\"],[0.6666666666666666,\"#ed7953\"],[0.7777777777777778,\"#fb9f3a\"],[0.8888888888888888,\"#fdca26\"],[1.0,\"#f0f921\"]],\"diverging\":[[0,\"#8e0152\"],[0.1,\"#c51b7d\"],[0.2,\"#de77ae\"],[0.3,\"#f1b6da\"],[0.4,\"#fde0ef\"],[0.5,\"#f7f7f7\"],[0.6,\"#e6f5d0\"],[0.7,\"#b8e186\"],[0.8,\"#7fbc41\"],[0.9,\"#4d9221\"],[1,\"#276419\"]]},\"xaxis\":{\"gridcolor\":\"white\",\"linecolor\":\"white\",\"ticks\":\"\",\"title\":{\"standoff\":15},\"zerolinecolor\":\"white\",\"automargin\":true,\"zerolinewidth\":2},\"yaxis\":{\"gridcolor\":\"white\",\"linecolor\":\"white\",\"ticks\":\"\",\"title\":{\"standoff\":15},\"zerolinecolor\":\"white\",\"automargin\":true,\"zerolinewidth\":2},\"scene\":{\"xaxis\":{\"backgroundcolor\":\"#E5ECF6\",\"gridcolor\":\"white\",\"linecolor\":\"white\",\"showbackground\":true,\"ticks\":\"\",\"zerolinecolor\":\"white\",\"gridwidth\":2},\"yaxis\":{\"backgroundcolor\":\"#E5ECF6\",\"gridcolor\":\"white\",\"linecolor\":\"white\",\"showbackground\":true,\"ticks\":\"\",\"zerolinecolor\":\"white\",\"gridwidth\":2},\"zaxis\":{\"backgroundcolor\":\"#E5ECF6\",\"gridcolor\":\"white\",\"linecolor\":\"white\",\"showbackground\":true,\"ticks\":\"\",\"zerolinecolor\":\"white\",\"gridwidth\":2}},\"shapedefaults\":{\"line\":{\"color\":\"#2a3f5f\"}},\"annotationdefaults\":{\"arrowcolor\":\"#2a3f5f\",\"arrowhead\":0,\"arrowwidth\":1},\"geo\":{\"bgcolor\":\"white\",\"landcolor\":\"#E5ECF6\",\"subunitcolor\":\"white\",\"showland\":true,\"showlakes\":true,\"lakecolor\":\"white\"},\"title\":{\"x\":0.05},\"mapbox\":{\"style\":\"light\"}}},\"polar\":{\"radialaxis\":{\"visible\":true,\"range\":[-1.8520612691825646,1.705846963117598]}},\"showlegend\":false},                        {\"responsive\": true}                    ).then(function(){\n",
       "                            \n",
       "var gd = document.getElementById('4a695f1f-453c-4f19-85fa-fe95bda0f1da');\n",
       "var x = new MutationObserver(function (mutations, observer) {{\n",
       "        var display = window.getComputedStyle(gd).display;\n",
       "        if (!display || display === 'none') {{\n",
       "            console.log([gd, 'removed!']);\n",
       "            Plotly.purge(gd);\n",
       "            observer.disconnect();\n",
       "        }}\n",
       "}});\n",
       "\n",
       "// Listen for the removal of the full notebook cells\n",
       "var notebookContainer = gd.closest('#notebook-container');\n",
       "if (notebookContainer) {{\n",
       "    x.observe(notebookContainer, {childList: true});\n",
       "}}\n",
       "\n",
       "// Listen for the clearing of the current output cell\n",
       "var outputEl = gd.closest('.output');\n",
       "if (outputEl) {{\n",
       "    x.observe(outputEl, {childList: true});\n",
       "}}\n",
       "\n",
       "                        })                };                });            </script>        </div>"
      ]
     },
     "metadata": {},
     "output_type": "display_data"
    }
   ],
   "source": [
    "import plotly.graph_objects as go\n",
    "\n",
    "\n",
    "fig = go.Figure()\n",
    "\n",
    "for i, row in model_size.iterrows():\n",
    "    fig.add_trace(go.Scatterpolar(\n",
    "        r=row[categories],\n",
    "        theta=categories,\n",
    "        # fill='toself',\n",
    "        name=row['model']\n",
    "    ))\n",
    "\n",
    "fig.update_layout(\n",
    "  polar=dict(\n",
    "    radialaxis=dict(\n",
    "      visible=True,\n",
    "      range=[model_size[categories].min(numeric_only=True).min()-0.2, model_size[categories].max(numeric_only=True).max()]\n",
    "    )),\n",
    "  showlegend=False\n",
    ")\n",
    "\n",
    "\n",
    "fig.show()"
   ]
  },
  {
   "cell_type": "code",
   "execution_count": 116,
   "metadata": {},
   "outputs": [
    {
     "data": {
      "application/vnd.plotly.v1+json": {
       "config": {
        "plotlyServerURL": "https://plot.ly"
       },
       "data": [
        {
         "name": "wv_test_score",
         "r": [
          -1.337462244474892,
          -0.9718801129552638,
          0.056578162494591876,
          0.18111999542461105,
          0.8299296463378213,
          1.241714553173132
         ],
         "theta": [
          "0.1",
          "0.25",
          "0.35",
          "0.5",
          "1.0",
          "1.5"
         ],
         "type": "scatterpolar"
        },
        {
         "name": "vww_test_score",
         "r": [
          -1.4218922387923074,
          -0.8817195772331138,
          -0.06012484501306208,
          0.3346174450573289,
          0.8993493208423932,
          1.129769895138761
         ],
         "theta": [
          "0.1",
          "0.25",
          "0.35",
          "0.5",
          "1.0",
          "1.5"
         ],
         "type": "scatterpolar"
        },
        {
         "name": "distance-near",
         "r": [
          -1.3077539850612572,
          -0.9515987181835525,
          -0.09063130893412999,
          0.23626260393373208,
          0.8491394412556206,
          1.264581966989587
         ],
         "theta": [
          "0.1",
          "0.25",
          "0.35",
          "0.5",
          "1.0",
          "1.5"
         ],
         "type": "scatterpolar"
        },
        {
         "name": "distance-mid",
         "r": [
          -1.2501912037933074,
          -1.0175202153211538,
          -0.06981573714780871,
          0.21701499783866476,
          0.8350684775115106,
          1.2854436809120944
         ],
         "theta": [
          "0.1",
          "0.25",
          "0.35",
          "0.5",
          "1.0",
          "1.5"
         ],
         "type": "scatterpolar"
        },
        {
         "name": "distance-far",
         "r": [
          -1.2735734844840998,
          -0.943800652482928,
          -0.17254329970835888,
          0.256141953336064,
          0.8267085264898462,
          1.3070669568494768
         ],
         "theta": [
          "0.1",
          "0.25",
          "0.35",
          "0.5",
          "1.0",
          "1.5"
         ],
         "type": "scatterpolar"
        },
        {
         "name": "miap-female",
         "r": [
          -1.4278529301062564,
          -0.7181266961079549,
          -0.10767336520418948,
          0.06420183034218532,
          0.9663385945127001,
          1.2231125665635152
         ],
         "theta": [
          "0.1",
          "0.25",
          "0.35",
          "0.5",
          "1.0",
          "1.5"
         ],
         "type": "scatterpolar"
        },
        {
         "name": "miap-male",
         "r": [
          -1.3801740406004772,
          -0.7720138758237189,
          -0.1050912660492542,
          0.12153588130987868,
          0.7575497819437113,
          1.37819351921986
         ],
         "theta": [
          "0.1",
          "0.25",
          "0.35",
          "0.5",
          "1.0",
          "1.5"
         ],
         "type": "scatterpolar"
        },
        {
         "name": "miap-unknown-gender",
         "r": [
          -1.488913190829786,
          -0.8071280400226546,
          0.19118403301407974,
          0.10890409191900768,
          0.7842524306062733,
          1.21170067531308
         ],
         "theta": [
          "0.1",
          "0.25",
          "0.35",
          "0.5",
          "1.0",
          "1.5"
         ],
         "type": "scatterpolar"
        },
        {
         "name": "miap-young",
         "r": [
          -1.010781180305253,
          -1.1260446602536167,
          -0.14756397318355627,
          0.021735009433629045,
          0.8780549104508991,
          1.3845998938578983
         ],
         "theta": [
          "0.1",
          "0.25",
          "0.35",
          "0.5",
          "1.0",
          "1.5"
         ],
         "type": "scatterpolar"
        },
        {
         "name": "miap-middle",
         "r": [
          -1.3863057336407811,
          -0.8141153666580728,
          -0.11326359973053407,
          0.17394497798128244,
          0.866100327970402,
          1.273639394077704
         ],
         "theta": [
          "0.1",
          "0.25",
          "0.35",
          "0.5",
          "1.0",
          "1.5"
         ],
         "type": "scatterpolar"
        },
        {
         "name": "miap-old",
         "r": [
          -0.11442899854571892,
          -0.1255424818632013,
          -0.6123011528235175,
          -1.2398135968294721,
          0.3862392669443117,
          1.705846963117598
         ],
         "theta": [
          "0.1",
          "0.25",
          "0.35",
          "0.5",
          "1.0",
          "1.5"
         ],
         "type": "scatterpolar"
        },
        {
         "name": "miap-unknown-age",
         "r": [
          -1.611832637798604,
          -0.6380102018436755,
          0.2811153810558308,
          0.0724145547181851,
          0.7108091429323802,
          1.1855037609358836
         ],
         "theta": [
          "0.1",
          "0.25",
          "0.35",
          "0.5",
          "1.0",
          "1.5"
         ],
         "type": "scatterpolar"
        },
        {
         "name": "lighting-dark",
         "r": [
          -1.6520612691825647,
          -0.5225817499976386,
          0.014171962047881776,
          0.23934731179810498,
          0.7428973661214266,
          1.1782263792127896
         ],
         "theta": [
          "0.1",
          "0.25",
          "0.35",
          "0.5",
          "1.0",
          "1.5"
         ],
         "type": "scatterpolar"
        },
        {
         "name": "lighting-normal_light",
         "r": [
          -1.240347429929606,
          -1.0814588829443759,
          0.05997525135832328,
          0.17083404223160656,
          0.854358025338405,
          1.2366389939456464
         ],
         "theta": [
          "0.1",
          "0.25",
          "0.35",
          "0.5",
          "1.0",
          "1.5"
         ],
         "type": "scatterpolar"
        },
        {
         "name": "lighting-bright",
         "r": [
          -1.0344944327770271,
          -1.1073041315859156,
          -0.15868623550346886,
          0.1016013619125424,
          0.7454286656925687,
          1.4534547722613005
         ],
         "theta": [
          "0.1",
          "0.25",
          "0.35",
          "0.5",
          "1.0",
          "1.5"
         ],
         "type": "scatterpolar"
        },
        {
         "name": "depictions_persons",
         "r": [
          -1.5447943893894795,
          -0.39448754888916127,
          -0.26598434218681744,
          0.19263334516645922,
          0.6033345039101148,
          1.409298431388884
         ],
         "theta": [
          "0.1",
          "0.25",
          "0.35",
          "0.5",
          "1.0",
          "1.5"
         ],
         "type": "scatterpolar"
        },
        {
         "name": "depictions_non_persons",
         "r": [
          -1.411855006743353,
          -0.6946210771566006,
          -0.07380420905003303,
          -0.03572037048459311,
          0.9317696266866056,
          1.2842310367479741
         ],
         "theta": [
          "0.1",
          "0.25",
          "0.35",
          "0.5",
          "1.0",
          "1.5"
         ],
         "type": "scatterpolar"
        }
       ],
       "layout": {
        "polar": {
         "radialaxis": {
          "range": [
           -2,
           2
          ],
          "visible": true
         }
        },
        "showlegend": false,
        "template": {
         "data": {
          "bar": [
           {
            "error_x": {
             "color": "#2a3f5f"
            },
            "error_y": {
             "color": "#2a3f5f"
            },
            "marker": {
             "line": {
              "color": "#E5ECF6",
              "width": 0.5
             },
             "pattern": {
              "fillmode": "overlay",
              "size": 10,
              "solidity": 0.2
             }
            },
            "type": "bar"
           }
          ],
          "barpolar": [
           {
            "marker": {
             "line": {
              "color": "#E5ECF6",
              "width": 0.5
             },
             "pattern": {
              "fillmode": "overlay",
              "size": 10,
              "solidity": 0.2
             }
            },
            "type": "barpolar"
           }
          ],
          "carpet": [
           {
            "aaxis": {
             "endlinecolor": "#2a3f5f",
             "gridcolor": "white",
             "linecolor": "white",
             "minorgridcolor": "white",
             "startlinecolor": "#2a3f5f"
            },
            "baxis": {
             "endlinecolor": "#2a3f5f",
             "gridcolor": "white",
             "linecolor": "white",
             "minorgridcolor": "white",
             "startlinecolor": "#2a3f5f"
            },
            "type": "carpet"
           }
          ],
          "choropleth": [
           {
            "colorbar": {
             "outlinewidth": 0,
             "ticks": ""
            },
            "type": "choropleth"
           }
          ],
          "contour": [
           {
            "colorbar": {
             "outlinewidth": 0,
             "ticks": ""
            },
            "colorscale": [
             [
              0,
              "#0d0887"
             ],
             [
              0.1111111111111111,
              "#46039f"
             ],
             [
              0.2222222222222222,
              "#7201a8"
             ],
             [
              0.3333333333333333,
              "#9c179e"
             ],
             [
              0.4444444444444444,
              "#bd3786"
             ],
             [
              0.5555555555555556,
              "#d8576b"
             ],
             [
              0.6666666666666666,
              "#ed7953"
             ],
             [
              0.7777777777777778,
              "#fb9f3a"
             ],
             [
              0.8888888888888888,
              "#fdca26"
             ],
             [
              1,
              "#f0f921"
             ]
            ],
            "type": "contour"
           }
          ],
          "contourcarpet": [
           {
            "colorbar": {
             "outlinewidth": 0,
             "ticks": ""
            },
            "type": "contourcarpet"
           }
          ],
          "heatmap": [
           {
            "colorbar": {
             "outlinewidth": 0,
             "ticks": ""
            },
            "colorscale": [
             [
              0,
              "#0d0887"
             ],
             [
              0.1111111111111111,
              "#46039f"
             ],
             [
              0.2222222222222222,
              "#7201a8"
             ],
             [
              0.3333333333333333,
              "#9c179e"
             ],
             [
              0.4444444444444444,
              "#bd3786"
             ],
             [
              0.5555555555555556,
              "#d8576b"
             ],
             [
              0.6666666666666666,
              "#ed7953"
             ],
             [
              0.7777777777777778,
              "#fb9f3a"
             ],
             [
              0.8888888888888888,
              "#fdca26"
             ],
             [
              1,
              "#f0f921"
             ]
            ],
            "type": "heatmap"
           }
          ],
          "heatmapgl": [
           {
            "colorbar": {
             "outlinewidth": 0,
             "ticks": ""
            },
            "colorscale": [
             [
              0,
              "#0d0887"
             ],
             [
              0.1111111111111111,
              "#46039f"
             ],
             [
              0.2222222222222222,
              "#7201a8"
             ],
             [
              0.3333333333333333,
              "#9c179e"
             ],
             [
              0.4444444444444444,
              "#bd3786"
             ],
             [
              0.5555555555555556,
              "#d8576b"
             ],
             [
              0.6666666666666666,
              "#ed7953"
             ],
             [
              0.7777777777777778,
              "#fb9f3a"
             ],
             [
              0.8888888888888888,
              "#fdca26"
             ],
             [
              1,
              "#f0f921"
             ]
            ],
            "type": "heatmapgl"
           }
          ],
          "histogram": [
           {
            "marker": {
             "pattern": {
              "fillmode": "overlay",
              "size": 10,
              "solidity": 0.2
             }
            },
            "type": "histogram"
           }
          ],
          "histogram2d": [
           {
            "colorbar": {
             "outlinewidth": 0,
             "ticks": ""
            },
            "colorscale": [
             [
              0,
              "#0d0887"
             ],
             [
              0.1111111111111111,
              "#46039f"
             ],
             [
              0.2222222222222222,
              "#7201a8"
             ],
             [
              0.3333333333333333,
              "#9c179e"
             ],
             [
              0.4444444444444444,
              "#bd3786"
             ],
             [
              0.5555555555555556,
              "#d8576b"
             ],
             [
              0.6666666666666666,
              "#ed7953"
             ],
             [
              0.7777777777777778,
              "#fb9f3a"
             ],
             [
              0.8888888888888888,
              "#fdca26"
             ],
             [
              1,
              "#f0f921"
             ]
            ],
            "type": "histogram2d"
           }
          ],
          "histogram2dcontour": [
           {
            "colorbar": {
             "outlinewidth": 0,
             "ticks": ""
            },
            "colorscale": [
             [
              0,
              "#0d0887"
             ],
             [
              0.1111111111111111,
              "#46039f"
             ],
             [
              0.2222222222222222,
              "#7201a8"
             ],
             [
              0.3333333333333333,
              "#9c179e"
             ],
             [
              0.4444444444444444,
              "#bd3786"
             ],
             [
              0.5555555555555556,
              "#d8576b"
             ],
             [
              0.6666666666666666,
              "#ed7953"
             ],
             [
              0.7777777777777778,
              "#fb9f3a"
             ],
             [
              0.8888888888888888,
              "#fdca26"
             ],
             [
              1,
              "#f0f921"
             ]
            ],
            "type": "histogram2dcontour"
           }
          ],
          "mesh3d": [
           {
            "colorbar": {
             "outlinewidth": 0,
             "ticks": ""
            },
            "type": "mesh3d"
           }
          ],
          "parcoords": [
           {
            "line": {
             "colorbar": {
              "outlinewidth": 0,
              "ticks": ""
             }
            },
            "type": "parcoords"
           }
          ],
          "pie": [
           {
            "automargin": true,
            "type": "pie"
           }
          ],
          "scatter": [
           {
            "fillpattern": {
             "fillmode": "overlay",
             "size": 10,
             "solidity": 0.2
            },
            "type": "scatter"
           }
          ],
          "scatter3d": [
           {
            "line": {
             "colorbar": {
              "outlinewidth": 0,
              "ticks": ""
             }
            },
            "marker": {
             "colorbar": {
              "outlinewidth": 0,
              "ticks": ""
             }
            },
            "type": "scatter3d"
           }
          ],
          "scattercarpet": [
           {
            "marker": {
             "colorbar": {
              "outlinewidth": 0,
              "ticks": ""
             }
            },
            "type": "scattercarpet"
           }
          ],
          "scattergeo": [
           {
            "marker": {
             "colorbar": {
              "outlinewidth": 0,
              "ticks": ""
             }
            },
            "type": "scattergeo"
           }
          ],
          "scattergl": [
           {
            "marker": {
             "colorbar": {
              "outlinewidth": 0,
              "ticks": ""
             }
            },
            "type": "scattergl"
           }
          ],
          "scattermapbox": [
           {
            "marker": {
             "colorbar": {
              "outlinewidth": 0,
              "ticks": ""
             }
            },
            "type": "scattermapbox"
           }
          ],
          "scatterpolar": [
           {
            "marker": {
             "colorbar": {
              "outlinewidth": 0,
              "ticks": ""
             }
            },
            "type": "scatterpolar"
           }
          ],
          "scatterpolargl": [
           {
            "marker": {
             "colorbar": {
              "outlinewidth": 0,
              "ticks": ""
             }
            },
            "type": "scatterpolargl"
           }
          ],
          "scatterternary": [
           {
            "marker": {
             "colorbar": {
              "outlinewidth": 0,
              "ticks": ""
             }
            },
            "type": "scatterternary"
           }
          ],
          "surface": [
           {
            "colorbar": {
             "outlinewidth": 0,
             "ticks": ""
            },
            "colorscale": [
             [
              0,
              "#0d0887"
             ],
             [
              0.1111111111111111,
              "#46039f"
             ],
             [
              0.2222222222222222,
              "#7201a8"
             ],
             [
              0.3333333333333333,
              "#9c179e"
             ],
             [
              0.4444444444444444,
              "#bd3786"
             ],
             [
              0.5555555555555556,
              "#d8576b"
             ],
             [
              0.6666666666666666,
              "#ed7953"
             ],
             [
              0.7777777777777778,
              "#fb9f3a"
             ],
             [
              0.8888888888888888,
              "#fdca26"
             ],
             [
              1,
              "#f0f921"
             ]
            ],
            "type": "surface"
           }
          ],
          "table": [
           {
            "cells": {
             "fill": {
              "color": "#EBF0F8"
             },
             "line": {
              "color": "white"
             }
            },
            "header": {
             "fill": {
              "color": "#C8D4E3"
             },
             "line": {
              "color": "white"
             }
            },
            "type": "table"
           }
          ]
         },
         "layout": {
          "annotationdefaults": {
           "arrowcolor": "#2a3f5f",
           "arrowhead": 0,
           "arrowwidth": 1
          },
          "autotypenumbers": "strict",
          "coloraxis": {
           "colorbar": {
            "outlinewidth": 0,
            "ticks": ""
           }
          },
          "colorscale": {
           "diverging": [
            [
             0,
             "#8e0152"
            ],
            [
             0.1,
             "#c51b7d"
            ],
            [
             0.2,
             "#de77ae"
            ],
            [
             0.3,
             "#f1b6da"
            ],
            [
             0.4,
             "#fde0ef"
            ],
            [
             0.5,
             "#f7f7f7"
            ],
            [
             0.6,
             "#e6f5d0"
            ],
            [
             0.7,
             "#b8e186"
            ],
            [
             0.8,
             "#7fbc41"
            ],
            [
             0.9,
             "#4d9221"
            ],
            [
             1,
             "#276419"
            ]
           ],
           "sequential": [
            [
             0,
             "#0d0887"
            ],
            [
             0.1111111111111111,
             "#46039f"
            ],
            [
             0.2222222222222222,
             "#7201a8"
            ],
            [
             0.3333333333333333,
             "#9c179e"
            ],
            [
             0.4444444444444444,
             "#bd3786"
            ],
            [
             0.5555555555555556,
             "#d8576b"
            ],
            [
             0.6666666666666666,
             "#ed7953"
            ],
            [
             0.7777777777777778,
             "#fb9f3a"
            ],
            [
             0.8888888888888888,
             "#fdca26"
            ],
            [
             1,
             "#f0f921"
            ]
           ],
           "sequentialminus": [
            [
             0,
             "#0d0887"
            ],
            [
             0.1111111111111111,
             "#46039f"
            ],
            [
             0.2222222222222222,
             "#7201a8"
            ],
            [
             0.3333333333333333,
             "#9c179e"
            ],
            [
             0.4444444444444444,
             "#bd3786"
            ],
            [
             0.5555555555555556,
             "#d8576b"
            ],
            [
             0.6666666666666666,
             "#ed7953"
            ],
            [
             0.7777777777777778,
             "#fb9f3a"
            ],
            [
             0.8888888888888888,
             "#fdca26"
            ],
            [
             1,
             "#f0f921"
            ]
           ]
          },
          "colorway": [
           "#636efa",
           "#EF553B",
           "#00cc96",
           "#ab63fa",
           "#FFA15A",
           "#19d3f3",
           "#FF6692",
           "#B6E880",
           "#FF97FF",
           "#FECB52"
          ],
          "font": {
           "color": "#2a3f5f"
          },
          "geo": {
           "bgcolor": "white",
           "lakecolor": "white",
           "landcolor": "#E5ECF6",
           "showlakes": true,
           "showland": true,
           "subunitcolor": "white"
          },
          "hoverlabel": {
           "align": "left"
          },
          "hovermode": "closest",
          "mapbox": {
           "style": "light"
          },
          "paper_bgcolor": "white",
          "plot_bgcolor": "#E5ECF6",
          "polar": {
           "angularaxis": {
            "gridcolor": "white",
            "linecolor": "white",
            "ticks": ""
           },
           "bgcolor": "#E5ECF6",
           "radialaxis": {
            "gridcolor": "white",
            "linecolor": "white",
            "ticks": ""
           }
          },
          "scene": {
           "xaxis": {
            "backgroundcolor": "#E5ECF6",
            "gridcolor": "white",
            "gridwidth": 2,
            "linecolor": "white",
            "showbackground": true,
            "ticks": "",
            "zerolinecolor": "white"
           },
           "yaxis": {
            "backgroundcolor": "#E5ECF6",
            "gridcolor": "white",
            "gridwidth": 2,
            "linecolor": "white",
            "showbackground": true,
            "ticks": "",
            "zerolinecolor": "white"
           },
           "zaxis": {
            "backgroundcolor": "#E5ECF6",
            "gridcolor": "white",
            "gridwidth": 2,
            "linecolor": "white",
            "showbackground": true,
            "ticks": "",
            "zerolinecolor": "white"
           }
          },
          "shapedefaults": {
           "line": {
            "color": "#2a3f5f"
           }
          },
          "ternary": {
           "aaxis": {
            "gridcolor": "white",
            "linecolor": "white",
            "ticks": ""
           },
           "baxis": {
            "gridcolor": "white",
            "linecolor": "white",
            "ticks": ""
           },
           "bgcolor": "#E5ECF6",
           "caxis": {
            "gridcolor": "white",
            "linecolor": "white",
            "ticks": ""
           }
          },
          "title": {
           "x": 0.05
          },
          "xaxis": {
           "automargin": true,
           "gridcolor": "white",
           "linecolor": "white",
           "ticks": "",
           "title": {
            "standoff": 15
           },
           "zerolinecolor": "white",
           "zerolinewidth": 2
          },
          "yaxis": {
           "automargin": true,
           "gridcolor": "white",
           "linecolor": "white",
           "ticks": "",
           "title": {
            "standoff": 15
           },
           "zerolinecolor": "white",
           "zerolinewidth": 2
          }
         }
        }
       }
      },
      "text/html": [
       "<div>                            <div id=\"86cb047b-a281-4a26-9cd5-cdef0e851f75\" class=\"plotly-graph-div\" style=\"height:525px; width:100%;\"></div>            <script type=\"text/javascript\">                require([\"plotly\"], function(Plotly) {                    window.PLOTLYENV=window.PLOTLYENV || {};                                    if (document.getElementById(\"86cb047b-a281-4a26-9cd5-cdef0e851f75\")) {                    Plotly.newPlot(                        \"86cb047b-a281-4a26-9cd5-cdef0e851f75\",                        [{\"name\":\"wv_test_score\",\"r\":[-1.337462244474892,-0.9718801129552638,0.056578162494591876,0.18111999542461105,0.8299296463378213,1.241714553173132],\"theta\":[\"0.1\",\"0.25\",\"0.35\",\"0.5\",\"1.0\",\"1.5\"],\"type\":\"scatterpolar\"},{\"name\":\"vww_test_score\",\"r\":[-1.4218922387923074,-0.8817195772331138,-0.06012484501306208,0.3346174450573289,0.8993493208423932,1.129769895138761],\"theta\":[\"0.1\",\"0.25\",\"0.35\",\"0.5\",\"1.0\",\"1.5\"],\"type\":\"scatterpolar\"},{\"name\":\"distance-near\",\"r\":[-1.3077539850612572,-0.9515987181835525,-0.09063130893412999,0.23626260393373208,0.8491394412556206,1.264581966989587],\"theta\":[\"0.1\",\"0.25\",\"0.35\",\"0.5\",\"1.0\",\"1.5\"],\"type\":\"scatterpolar\"},{\"name\":\"distance-mid\",\"r\":[-1.2501912037933074,-1.0175202153211538,-0.06981573714780871,0.21701499783866476,0.8350684775115106,1.2854436809120944],\"theta\":[\"0.1\",\"0.25\",\"0.35\",\"0.5\",\"1.0\",\"1.5\"],\"type\":\"scatterpolar\"},{\"name\":\"distance-far\",\"r\":[-1.2735734844840998,-0.943800652482928,-0.17254329970835888,0.256141953336064,0.8267085264898462,1.3070669568494768],\"theta\":[\"0.1\",\"0.25\",\"0.35\",\"0.5\",\"1.0\",\"1.5\"],\"type\":\"scatterpolar\"},{\"name\":\"miap-female\",\"r\":[-1.4278529301062564,-0.7181266961079549,-0.10767336520418948,0.06420183034218532,0.9663385945127001,1.2231125665635152],\"theta\":[\"0.1\",\"0.25\",\"0.35\",\"0.5\",\"1.0\",\"1.5\"],\"type\":\"scatterpolar\"},{\"name\":\"miap-male\",\"r\":[-1.3801740406004772,-0.7720138758237189,-0.1050912660492542,0.12153588130987868,0.7575497819437113,1.37819351921986],\"theta\":[\"0.1\",\"0.25\",\"0.35\",\"0.5\",\"1.0\",\"1.5\"],\"type\":\"scatterpolar\"},{\"name\":\"miap-unknown-gender\",\"r\":[-1.488913190829786,-0.8071280400226546,0.19118403301407974,0.10890409191900768,0.7842524306062733,1.21170067531308],\"theta\":[\"0.1\",\"0.25\",\"0.35\",\"0.5\",\"1.0\",\"1.5\"],\"type\":\"scatterpolar\"},{\"name\":\"miap-young\",\"r\":[-1.010781180305253,-1.1260446602536167,-0.14756397318355627,0.021735009433629045,0.8780549104508991,1.3845998938578983],\"theta\":[\"0.1\",\"0.25\",\"0.35\",\"0.5\",\"1.0\",\"1.5\"],\"type\":\"scatterpolar\"},{\"name\":\"miap-middle\",\"r\":[-1.3863057336407811,-0.8141153666580728,-0.11326359973053407,0.17394497798128244,0.866100327970402,1.273639394077704],\"theta\":[\"0.1\",\"0.25\",\"0.35\",\"0.5\",\"1.0\",\"1.5\"],\"type\":\"scatterpolar\"},{\"name\":\"miap-old\",\"r\":[-0.11442899854571892,-0.1255424818632013,-0.6123011528235175,-1.2398135968294721,0.3862392669443117,1.705846963117598],\"theta\":[\"0.1\",\"0.25\",\"0.35\",\"0.5\",\"1.0\",\"1.5\"],\"type\":\"scatterpolar\"},{\"name\":\"miap-unknown-age\",\"r\":[-1.611832637798604,-0.6380102018436755,0.2811153810558308,0.0724145547181851,0.7108091429323802,1.1855037609358836],\"theta\":[\"0.1\",\"0.25\",\"0.35\",\"0.5\",\"1.0\",\"1.5\"],\"type\":\"scatterpolar\"},{\"name\":\"lighting-dark\",\"r\":[-1.6520612691825647,-0.5225817499976386,0.014171962047881776,0.23934731179810498,0.7428973661214266,1.1782263792127896],\"theta\":[\"0.1\",\"0.25\",\"0.35\",\"0.5\",\"1.0\",\"1.5\"],\"type\":\"scatterpolar\"},{\"name\":\"lighting-normal_light\",\"r\":[-1.240347429929606,-1.0814588829443759,0.05997525135832328,0.17083404223160656,0.854358025338405,1.2366389939456464],\"theta\":[\"0.1\",\"0.25\",\"0.35\",\"0.5\",\"1.0\",\"1.5\"],\"type\":\"scatterpolar\"},{\"name\":\"lighting-bright\",\"r\":[-1.0344944327770271,-1.1073041315859156,-0.15868623550346886,0.1016013619125424,0.7454286656925687,1.4534547722613005],\"theta\":[\"0.1\",\"0.25\",\"0.35\",\"0.5\",\"1.0\",\"1.5\"],\"type\":\"scatterpolar\"},{\"name\":\"depictions_persons\",\"r\":[-1.5447943893894795,-0.39448754888916127,-0.26598434218681744,0.19263334516645922,0.6033345039101148,1.409298431388884],\"theta\":[\"0.1\",\"0.25\",\"0.35\",\"0.5\",\"1.0\",\"1.5\"],\"type\":\"scatterpolar\"},{\"name\":\"depictions_non_persons\",\"r\":[-1.411855006743353,-0.6946210771566006,-0.07380420905003303,-0.03572037048459311,0.9317696266866056,1.2842310367479741],\"theta\":[\"0.1\",\"0.25\",\"0.35\",\"0.5\",\"1.0\",\"1.5\"],\"type\":\"scatterpolar\"}],                        {\"template\":{\"data\":{\"histogram2dcontour\":[{\"type\":\"histogram2dcontour\",\"colorbar\":{\"outlinewidth\":0,\"ticks\":\"\"},\"colorscale\":[[0.0,\"#0d0887\"],[0.1111111111111111,\"#46039f\"],[0.2222222222222222,\"#7201a8\"],[0.3333333333333333,\"#9c179e\"],[0.4444444444444444,\"#bd3786\"],[0.5555555555555556,\"#d8576b\"],[0.6666666666666666,\"#ed7953\"],[0.7777777777777778,\"#fb9f3a\"],[0.8888888888888888,\"#fdca26\"],[1.0,\"#f0f921\"]]}],\"choropleth\":[{\"type\":\"choropleth\",\"colorbar\":{\"outlinewidth\":0,\"ticks\":\"\"}}],\"histogram2d\":[{\"type\":\"histogram2d\",\"colorbar\":{\"outlinewidth\":0,\"ticks\":\"\"},\"colorscale\":[[0.0,\"#0d0887\"],[0.1111111111111111,\"#46039f\"],[0.2222222222222222,\"#7201a8\"],[0.3333333333333333,\"#9c179e\"],[0.4444444444444444,\"#bd3786\"],[0.5555555555555556,\"#d8576b\"],[0.6666666666666666,\"#ed7953\"],[0.7777777777777778,\"#fb9f3a\"],[0.8888888888888888,\"#fdca26\"],[1.0,\"#f0f921\"]]}],\"heatmap\":[{\"type\":\"heatmap\",\"colorbar\":{\"outlinewidth\":0,\"ticks\":\"\"},\"colorscale\":[[0.0,\"#0d0887\"],[0.1111111111111111,\"#46039f\"],[0.2222222222222222,\"#7201a8\"],[0.3333333333333333,\"#9c179e\"],[0.4444444444444444,\"#bd3786\"],[0.5555555555555556,\"#d8576b\"],[0.6666666666666666,\"#ed7953\"],[0.7777777777777778,\"#fb9f3a\"],[0.8888888888888888,\"#fdca26\"],[1.0,\"#f0f921\"]]}],\"heatmapgl\":[{\"type\":\"heatmapgl\",\"colorbar\":{\"outlinewidth\":0,\"ticks\":\"\"},\"colorscale\":[[0.0,\"#0d0887\"],[0.1111111111111111,\"#46039f\"],[0.2222222222222222,\"#7201a8\"],[0.3333333333333333,\"#9c179e\"],[0.4444444444444444,\"#bd3786\"],[0.5555555555555556,\"#d8576b\"],[0.6666666666666666,\"#ed7953\"],[0.7777777777777778,\"#fb9f3a\"],[0.8888888888888888,\"#fdca26\"],[1.0,\"#f0f921\"]]}],\"contourcarpet\":[{\"type\":\"contourcarpet\",\"colorbar\":{\"outlinewidth\":0,\"ticks\":\"\"}}],\"contour\":[{\"type\":\"contour\",\"colorbar\":{\"outlinewidth\":0,\"ticks\":\"\"},\"colorscale\":[[0.0,\"#0d0887\"],[0.1111111111111111,\"#46039f\"],[0.2222222222222222,\"#7201a8\"],[0.3333333333333333,\"#9c179e\"],[0.4444444444444444,\"#bd3786\"],[0.5555555555555556,\"#d8576b\"],[0.6666666666666666,\"#ed7953\"],[0.7777777777777778,\"#fb9f3a\"],[0.8888888888888888,\"#fdca26\"],[1.0,\"#f0f921\"]]}],\"surface\":[{\"type\":\"surface\",\"colorbar\":{\"outlinewidth\":0,\"ticks\":\"\"},\"colorscale\":[[0.0,\"#0d0887\"],[0.1111111111111111,\"#46039f\"],[0.2222222222222222,\"#7201a8\"],[0.3333333333333333,\"#9c179e\"],[0.4444444444444444,\"#bd3786\"],[0.5555555555555556,\"#d8576b\"],[0.6666666666666666,\"#ed7953\"],[0.7777777777777778,\"#fb9f3a\"],[0.8888888888888888,\"#fdca26\"],[1.0,\"#f0f921\"]]}],\"mesh3d\":[{\"type\":\"mesh3d\",\"colorbar\":{\"outlinewidth\":0,\"ticks\":\"\"}}],\"scatter\":[{\"fillpattern\":{\"fillmode\":\"overlay\",\"size\":10,\"solidity\":0.2},\"type\":\"scatter\"}],\"parcoords\":[{\"type\":\"parcoords\",\"line\":{\"colorbar\":{\"outlinewidth\":0,\"ticks\":\"\"}}}],\"scatterpolargl\":[{\"type\":\"scatterpolargl\",\"marker\":{\"colorbar\":{\"outlinewidth\":0,\"ticks\":\"\"}}}],\"bar\":[{\"error_x\":{\"color\":\"#2a3f5f\"},\"error_y\":{\"color\":\"#2a3f5f\"},\"marker\":{\"line\":{\"color\":\"#E5ECF6\",\"width\":0.5},\"pattern\":{\"fillmode\":\"overlay\",\"size\":10,\"solidity\":0.2}},\"type\":\"bar\"}],\"scattergeo\":[{\"type\":\"scattergeo\",\"marker\":{\"colorbar\":{\"outlinewidth\":0,\"ticks\":\"\"}}}],\"scatterpolar\":[{\"type\":\"scatterpolar\",\"marker\":{\"colorbar\":{\"outlinewidth\":0,\"ticks\":\"\"}}}],\"histogram\":[{\"marker\":{\"pattern\":{\"fillmode\":\"overlay\",\"size\":10,\"solidity\":0.2}},\"type\":\"histogram\"}],\"scattergl\":[{\"type\":\"scattergl\",\"marker\":{\"colorbar\":{\"outlinewidth\":0,\"ticks\":\"\"}}}],\"scatter3d\":[{\"type\":\"scatter3d\",\"line\":{\"colorbar\":{\"outlinewidth\":0,\"ticks\":\"\"}},\"marker\":{\"colorbar\":{\"outlinewidth\":0,\"ticks\":\"\"}}}],\"scattermapbox\":[{\"type\":\"scattermapbox\",\"marker\":{\"colorbar\":{\"outlinewidth\":0,\"ticks\":\"\"}}}],\"scatterternary\":[{\"type\":\"scatterternary\",\"marker\":{\"colorbar\":{\"outlinewidth\":0,\"ticks\":\"\"}}}],\"scattercarpet\":[{\"type\":\"scattercarpet\",\"marker\":{\"colorbar\":{\"outlinewidth\":0,\"ticks\":\"\"}}}],\"carpet\":[{\"aaxis\":{\"endlinecolor\":\"#2a3f5f\",\"gridcolor\":\"white\",\"linecolor\":\"white\",\"minorgridcolor\":\"white\",\"startlinecolor\":\"#2a3f5f\"},\"baxis\":{\"endlinecolor\":\"#2a3f5f\",\"gridcolor\":\"white\",\"linecolor\":\"white\",\"minorgridcolor\":\"white\",\"startlinecolor\":\"#2a3f5f\"},\"type\":\"carpet\"}],\"table\":[{\"cells\":{\"fill\":{\"color\":\"#EBF0F8\"},\"line\":{\"color\":\"white\"}},\"header\":{\"fill\":{\"color\":\"#C8D4E3\"},\"line\":{\"color\":\"white\"}},\"type\":\"table\"}],\"barpolar\":[{\"marker\":{\"line\":{\"color\":\"#E5ECF6\",\"width\":0.5},\"pattern\":{\"fillmode\":\"overlay\",\"size\":10,\"solidity\":0.2}},\"type\":\"barpolar\"}],\"pie\":[{\"automargin\":true,\"type\":\"pie\"}]},\"layout\":{\"autotypenumbers\":\"strict\",\"colorway\":[\"#636efa\",\"#EF553B\",\"#00cc96\",\"#ab63fa\",\"#FFA15A\",\"#19d3f3\",\"#FF6692\",\"#B6E880\",\"#FF97FF\",\"#FECB52\"],\"font\":{\"color\":\"#2a3f5f\"},\"hovermode\":\"closest\",\"hoverlabel\":{\"align\":\"left\"},\"paper_bgcolor\":\"white\",\"plot_bgcolor\":\"#E5ECF6\",\"polar\":{\"bgcolor\":\"#E5ECF6\",\"angularaxis\":{\"gridcolor\":\"white\",\"linecolor\":\"white\",\"ticks\":\"\"},\"radialaxis\":{\"gridcolor\":\"white\",\"linecolor\":\"white\",\"ticks\":\"\"}},\"ternary\":{\"bgcolor\":\"#E5ECF6\",\"aaxis\":{\"gridcolor\":\"white\",\"linecolor\":\"white\",\"ticks\":\"\"},\"baxis\":{\"gridcolor\":\"white\",\"linecolor\":\"white\",\"ticks\":\"\"},\"caxis\":{\"gridcolor\":\"white\",\"linecolor\":\"white\",\"ticks\":\"\"}},\"coloraxis\":{\"colorbar\":{\"outlinewidth\":0,\"ticks\":\"\"}},\"colorscale\":{\"sequential\":[[0.0,\"#0d0887\"],[0.1111111111111111,\"#46039f\"],[0.2222222222222222,\"#7201a8\"],[0.3333333333333333,\"#9c179e\"],[0.4444444444444444,\"#bd3786\"],[0.5555555555555556,\"#d8576b\"],[0.6666666666666666,\"#ed7953\"],[0.7777777777777778,\"#fb9f3a\"],[0.8888888888888888,\"#fdca26\"],[1.0,\"#f0f921\"]],\"sequentialminus\":[[0.0,\"#0d0887\"],[0.1111111111111111,\"#46039f\"],[0.2222222222222222,\"#7201a8\"],[0.3333333333333333,\"#9c179e\"],[0.4444444444444444,\"#bd3786\"],[0.5555555555555556,\"#d8576b\"],[0.6666666666666666,\"#ed7953\"],[0.7777777777777778,\"#fb9f3a\"],[0.8888888888888888,\"#fdca26\"],[1.0,\"#f0f921\"]],\"diverging\":[[0,\"#8e0152\"],[0.1,\"#c51b7d\"],[0.2,\"#de77ae\"],[0.3,\"#f1b6da\"],[0.4,\"#fde0ef\"],[0.5,\"#f7f7f7\"],[0.6,\"#e6f5d0\"],[0.7,\"#b8e186\"],[0.8,\"#7fbc41\"],[0.9,\"#4d9221\"],[1,\"#276419\"]]},\"xaxis\":{\"gridcolor\":\"white\",\"linecolor\":\"white\",\"ticks\":\"\",\"title\":{\"standoff\":15},\"zerolinecolor\":\"white\",\"automargin\":true,\"zerolinewidth\":2},\"yaxis\":{\"gridcolor\":\"white\",\"linecolor\":\"white\",\"ticks\":\"\",\"title\":{\"standoff\":15},\"zerolinecolor\":\"white\",\"automargin\":true,\"zerolinewidth\":2},\"scene\":{\"xaxis\":{\"backgroundcolor\":\"#E5ECF6\",\"gridcolor\":\"white\",\"linecolor\":\"white\",\"showbackground\":true,\"ticks\":\"\",\"zerolinecolor\":\"white\",\"gridwidth\":2},\"yaxis\":{\"backgroundcolor\":\"#E5ECF6\",\"gridcolor\":\"white\",\"linecolor\":\"white\",\"showbackground\":true,\"ticks\":\"\",\"zerolinecolor\":\"white\",\"gridwidth\":2},\"zaxis\":{\"backgroundcolor\":\"#E5ECF6\",\"gridcolor\":\"white\",\"linecolor\":\"white\",\"showbackground\":true,\"ticks\":\"\",\"zerolinecolor\":\"white\",\"gridwidth\":2}},\"shapedefaults\":{\"line\":{\"color\":\"#2a3f5f\"}},\"annotationdefaults\":{\"arrowcolor\":\"#2a3f5f\",\"arrowhead\":0,\"arrowwidth\":1},\"geo\":{\"bgcolor\":\"white\",\"landcolor\":\"#E5ECF6\",\"subunitcolor\":\"white\",\"showland\":true,\"showlakes\":true,\"lakecolor\":\"white\"},\"title\":{\"x\":0.05},\"mapbox\":{\"style\":\"light\"}}},\"polar\":{\"radialaxis\":{\"visible\":true,\"range\":[-2,2]}},\"showlegend\":false},                        {\"responsive\": true}                    ).then(function(){\n",
       "                            \n",
       "var gd = document.getElementById('86cb047b-a281-4a26-9cd5-cdef0e851f75');\n",
       "var x = new MutationObserver(function (mutations, observer) {{\n",
       "        var display = window.getComputedStyle(gd).display;\n",
       "        if (!display || display === 'none') {{\n",
       "            console.log([gd, 'removed!']);\n",
       "            Plotly.purge(gd);\n",
       "            observer.disconnect();\n",
       "        }}\n",
       "}});\n",
       "\n",
       "// Listen for the removal of the full notebook cells\n",
       "var notebookContainer = gd.closest('#notebook-container');\n",
       "if (notebookContainer) {{\n",
       "    x.observe(notebookContainer, {childList: true});\n",
       "}}\n",
       "\n",
       "// Listen for the clearing of the current output cell\n",
       "var outputEl = gd.closest('.output');\n",
       "if (outputEl) {{\n",
       "    x.observe(outputEl, {childList: true});\n",
       "}}\n",
       "\n",
       "                        })                };                });            </script>        </div>"
      ]
     },
     "metadata": {},
     "output_type": "display_data"
    }
   ],
   "source": [
    "fig = go.Figure()\n",
    "for col in categories:\n",
    "    fig.add_trace(go.Scatterpolar(\n",
    "        r=model_size[col],\n",
    "        theta=model_size['model'],\n",
    "        # fill='toself',\n",
    "        name=col\n",
    "    ))\n",
    "\n",
    "fig.update_layout(\n",
    "  polar=dict(\n",
    "    radialaxis=dict(\n",
    "      visible=True,\n",
    "      range=[-2, 2]\n",
    "    )),\n",
    "  showlegend=False\n",
    ")\n",
    "\n",
    "\n",
    "fig.show()"
   ]
  }
 ],
 "metadata": {
  "kernelspec": {
   "display_name": "Python 3",
   "language": "python",
   "name": "python3"
  },
  "language_info": {
   "codemirror_mode": {
    "name": "ipython",
    "version": 3
   },
   "file_extension": ".py",
   "mimetype": "text/x-python",
   "name": "python",
   "nbconvert_exporter": "python",
   "pygments_lexer": "ipython3",
   "version": "3.10.12"
  }
 },
 "nbformat": 4,
 "nbformat_minor": 2
}
